{
 "cells": [
  {
   "cell_type": "markdown",
   "id": "123456",
   "metadata": {},
   "source": [
    "<div style=\"text-align:left;font-size:2em\"><span style=\"font-weight:bolder;font-size:1.25em\">SP2273 | Learning Portfolio</span><br><br><span style=\"font-weight:bold;color:darkred\">Storing Data (Need)</span></div>"
   ]
  },
  {
   "cell_type": "markdown",
   "id": "80b99fb9",
   "metadata": {},
   "source": [
    "## 1 Lists, Arrays & Dictionaries"
   ]
  },
  {
   "cell_type": "markdown",
   "id": "dc3e0441",
   "metadata": {},
   "source": [
    "### 1.1 Let’s compare"
   ]
  },
  {
   "cell_type": "code",
   "execution_count": 2,
   "id": "10050b38",
   "metadata": {},
   "outputs": [
    {
     "name": "stdout",
     "output_type": "stream",
     "text": [
      "['Forrest Gump', 'Wade Wilson', 'James Bond']\n",
      "['Tom Hanks', 'Ryan Reynolds', 'Daniel Craig']\n",
      "['Forrest Gump' 'Wade Wilson' 'James Bond']\n",
      "['Tom Hanks' 'Ryan Reynolds' 'Daniel Craig']\n",
      "{'Forrest Gump': 'Tom Hanks', 'Wade Wilson': 'Ryan Reynolds', 'James Bond': 'Daniel Craig'}\n"
     ]
    }
   ],
   "source": [
    "import numpy as np\n",
    "\n",
    "py_characters = [\"Forrest Gump\", \"Wade Wilson\", \"James Bond\"]\n",
    "py_actors = [\"Tom Hanks\", \"Ryan Reynolds\", \"Daniel Craig\"]\n",
    "\n",
    "np_characters = np.array([\"Forrest Gump\", \"Wade Wilson\", \"James Bond\"])\n",
    "np_actors = np.array([\"Tom Hanks\", \"Ryan Reynolds\", \"Daniel Craig\"])\n",
    "\n",
    "characters_info = {\"Forrest Gump\":\"Tom Hanks\",\"Wade Wilson\":\"Ryan Reynolds\",\n",
    "                  \"James Bond\":\"Daniel Craig\"}\n",
    "\n",
    "print(py_characters)\n",
    "print(py_actors)\n",
    "print(np_characters)\n",
    "print(np_actors)\n",
    "print(characters_info)"
   ]
  },
  {
   "cell_type": "markdown",
   "id": "8159f955",
   "metadata": {},
   "source": [
    "### 1.2 Accessing data from a list (or array)"
   ]
  },
  {
   "cell_type": "code",
   "execution_count": 7,
   "id": "7f06c9ff",
   "metadata": {},
   "outputs": [
    {
     "name": "stdout",
     "output_type": "stream",
     "text": [
      "Forrest Gump\n",
      "Daniel Craig\n",
      "Tom Hanks\n"
     ]
    }
   ],
   "source": [
    "print(py_characters[0])\n",
    "print(np_actors[2])\n",
    "print(py_actors[-3])\n"
   ]
  },
  {
   "cell_type": "markdown",
   "id": "90be3b9c",
   "metadata": {},
   "source": [
    "### 1.3 Accessing data from a dictionary"
   ]
  },
  {
   "cell_type": "code",
   "execution_count": 8,
   "id": "d741b8ce",
   "metadata": {},
   "outputs": [
    {
     "name": "stdout",
     "output_type": "stream",
     "text": [
      "Ryan Reynolds\n"
     ]
    }
   ],
   "source": [
    "print(characters_info[\"Wade Wilson\"])"
   ]
  },
  {
   "cell_type": "code",
   "execution_count": 9,
   "id": "8b3185b6",
   "metadata": {},
   "outputs": [
    {
     "data": {
      "text/plain": [
       "dict_keys(['Forrest Gump', 'Wade Wilson', 'James Bond'])"
      ]
     },
     "execution_count": 9,
     "metadata": {},
     "output_type": "execute_result"
    }
   ],
   "source": [
    "characters_info.keys()"
   ]
  },
  {
   "cell_type": "code",
   "execution_count": 10,
   "id": "d4376a7f",
   "metadata": {},
   "outputs": [
    {
     "data": {
      "text/plain": [
       "dict_values(['Tom Hanks', 'Ryan Reynolds', 'Daniel Craig'])"
      ]
     },
     "execution_count": 10,
     "metadata": {},
     "output_type": "execute_result"
    }
   ],
   "source": [
    "characters_info.values()"
   ]
  },
  {
   "cell_type": "markdown",
   "id": "13cbb71d",
   "metadata": {},
   "source": [
    "### 1.4 Higher dimensional lists"
   ]
  },
  {
   "cell_type": "code",
   "execution_count": 11,
   "id": "a0101340",
   "metadata": {},
   "outputs": [
    {
     "name": "stdout",
     "output_type": "stream",
     "text": [
      "[['Forrest Gump', 'Tom Hanks'], ['Wade Wilson', 'Ryan Reynolds'], ['James Bond', 'Daniel Craig']]\n"
     ]
    }
   ],
   "source": [
    "py_characters_info = [[\"Forrest Gump\",\"Tom Hanks\"],\n",
    "                     [\"Wade Wilson\",\"Ryan Reynolds\"],\n",
    "                     [\"James Bond\",\"Daniel Craig\"]]\n",
    "print(py_characters_info)"
   ]
  },
  {
   "cell_type": "markdown",
   "id": "c5a08a5a",
   "metadata": {},
   "source": [
    "## 2 Lists vs. Arrays"
   ]
  },
  {
   "cell_type": "markdown",
   "id": "7d6274d9",
   "metadata": {},
   "source": [
    "### 2.1 Size"
   ]
  },
  {
   "cell_type": "code",
   "execution_count": 19,
   "id": "5391143c",
   "metadata": {},
   "outputs": [],
   "source": [
    "py_list_2d = [[1, \"A\"], [2, \"B\"], [3, \"C\"], [4, \"D\"],\n",
    "              [5, \"E\"], [6, \"F\"], [7, \"G\"], [8, \"H\"],\n",
    "              [9, \"I\"], [10, \"J\"]]\n",
    "\n",
    "np_array_2d = np.array(py_list_2d)      # Reusing the Python list \n",
    "                                        # to create a NEW\n",
    "                                        # NumPy array"
   ]
  },
  {
   "cell_type": "code",
   "execution_count": 14,
   "id": "b23af90f",
   "metadata": {},
   "outputs": [
    {
     "name": "stdout",
     "output_type": "stream",
     "text": [
      "10\n",
      "10\n",
      "(10, 2)\n"
     ]
    }
   ],
   "source": [
    "print(len(py_list_2d))\n",
    "print(len(np_array_2d))\n",
    "print(np_array_2d.shape)"
   ]
  },
  {
   "cell_type": "code",
   "execution_count": 30,
   "id": "99564bd6",
   "metadata": {},
   "outputs": [
    {
     "name": "stdout",
     "output_type": "stream",
     "text": [
      "(3, 2, 2)\n"
     ]
    }
   ],
   "source": [
    "py_list_3d = [[[1,\"one\"],[\"Adam\",\"A\"]],\n",
    "              [[2,\"two\"], [\"Ben\",\"B\"]], \n",
    "              [[3,\"three\"], [\"Charlie\",\"C\"]]]\n",
    "\n",
    "np_array_3d = np.array(py_list_3d)\n",
    "print(np_array_3d.shape)\n",
    "#3d shape of an array, first layer has 3 items, second and third layer have 2 items"
   ]
  },
  {
   "cell_type": "markdown",
   "id": "40001035",
   "metadata": {},
   "source": [
    "### 2.2 Arrays are fussy about type"
   ]
  },
  {
   "cell_type": "code",
   "execution_count": 32,
   "id": "36045d06",
   "metadata": {},
   "outputs": [
    {
     "data": {
      "text/plain": [
       "array(['1', '1.5', 'A'], dtype='<U32')"
      ]
     },
     "execution_count": 32,
     "metadata": {},
     "output_type": "execute_result"
    }
   ],
   "source": [
    "py_list = [1, 1.5, 'A']\n",
    "np.array(py_list)"
   ]
  },
  {
   "cell_type": "markdown",
   "id": "13d5ff0c",
   "metadata": {},
   "source": [
    "### 2.3 Adding a number"
   ]
  },
  {
   "cell_type": "code",
   "execution_count": 47,
   "id": "a51ddf2a",
   "metadata": {},
   "outputs": [
    {
     "name": "stdout",
     "output_type": "stream",
     "text": [
      "[11 12 13 14 15]\n"
     ]
    },
    {
     "ename": "TypeError",
     "evalue": "can only concatenate list (not \"int\") to list",
     "output_type": "error",
     "traceback": [
      "\u001b[1;31m---------------------------------------------------------------------------\u001b[0m",
      "\u001b[1;31mTypeError\u001b[0m                                 Traceback (most recent call last)",
      "\u001b[1;32m~\\AppData\\Local\\Temp\\ipykernel_17596\\1084421799.py\u001b[0m in \u001b[0;36m<module>\u001b[1;34m\u001b[0m\n\u001b[0;32m      8\u001b[0m \u001b[1;31m#similar to for i in py_list, i += 10\u001b[0m\u001b[1;33m\u001b[0m\u001b[1;33m\u001b[0m\u001b[0m\n\u001b[0;32m      9\u001b[0m \u001b[1;33m\u001b[0m\u001b[0m\n\u001b[1;32m---> 10\u001b[1;33m \u001b[0mprint\u001b[0m\u001b[1;33m(\u001b[0m\u001b[0mpy_list\u001b[0m \u001b[1;33m+\u001b[0m \u001b[1;36m10\u001b[0m\u001b[1;33m)\u001b[0m\u001b[1;33m\u001b[0m\u001b[1;33m\u001b[0m\u001b[0m\n\u001b[0m\u001b[0;32m     11\u001b[0m \u001b[1;31m#this doesn't work, because you can't add values to a list this way\u001b[0m\u001b[1;33m\u001b[0m\u001b[1;33m\u001b[0m\u001b[0m\n",
      "\u001b[1;31mTypeError\u001b[0m: can only concatenate list (not \"int\") to list"
     ]
    }
   ],
   "source": [
    "py_list = [1, 2, 3, 4, 5]\n",
    "np_array = np.array(py_list)         # Reusing the Python list\n",
    "                                     # to create a NEW\n",
    "                                     # NumPy array\n",
    "        \n",
    "print(np_array + 10)\n",
    "#returns np_array with 10 added to each value\n",
    "#similar to for i in py_list, i += 10\n",
    "\n",
    "print(py_list + 10)\n",
    "#this doesn't work, because you can't add values to a list this way"
   ]
  },
  {
   "cell_type": "markdown",
   "id": "49058119",
   "metadata": {},
   "source": [
    "### 2.4 Adding another list"
   ]
  },
  {
   "cell_type": "code",
   "execution_count": 42,
   "id": "0bf9e837",
   "metadata": {},
   "outputs": [
    {
     "name": "stdout",
     "output_type": "stream",
     "text": [
      "[1, 2, 3, 4, 5, 10, 20, 30, 40, 50]\n",
      "[11 22 33 44 55]\n"
     ]
    }
   ],
   "source": [
    "py_list_1 = [1, 2, 3, 4, 5]\n",
    "py_list_2 = [10, 20, 30, 40, 50]\n",
    "\n",
    "np_array_1 = np.array(py_list_1)\n",
    "np_array_2 = np.array(py_list_2)\n",
    "\n",
    "print(py_list_1 + py_list_2)\n",
    "print(np_array_1 + np_array_2)"
   ]
  },
  {
   "cell_type": "markdown",
   "id": "3f842cdf",
   "metadata": {},
   "source": [
    "### 2.5 Multiplying by a Number"
   ]
  },
  {
   "cell_type": "code",
   "execution_count": 45,
   "id": "eb0b421a",
   "metadata": {},
   "outputs": [
    {
     "name": "stdout",
     "output_type": "stream",
     "text": [
      "[1, 2, 3, 4, 5, 1, 2, 3, 4, 5, 1, 2, 3, 4, 5]\n",
      "[ 3  6  9 12 15]\n"
     ]
    }
   ],
   "source": [
    "py_list = [1, 2, 3, 4, 5]\n",
    "np_array = np.array(py_list)         \n",
    "\n",
    "print(py_list * 3)\n",
    "print(np_array * 3)\n"
   ]
  },
  {
   "cell_type": "markdown",
   "id": "676363f7",
   "metadata": {},
   "source": [
    "### 2.6 Squaring"
   ]
  },
  {
   "cell_type": "code",
   "execution_count": 49,
   "id": "41f0c340",
   "metadata": {},
   "outputs": [
    {
     "name": "stdout",
     "output_type": "stream",
     "text": [
      "[ 1  4  9 16 25]\n"
     ]
    }
   ],
   "source": [
    "py_list = [1, 2, 3, 4, 5]\n",
    "np_array = np.array(py_list)\n",
    "\n",
    "#print(py_list**2)\n",
    "#this won't work, since you obviously can't square a list\n",
    "\n",
    "print(np_array**2)\n",
    "#This squares each of the individual values inside the array"
   ]
  },
  {
   "cell_type": "markdown",
   "id": "d6b67d14",
   "metadata": {},
   "source": [
    "### 2.7 Asking questions"
   ]
  },
  {
   "cell_type": "code",
   "execution_count": 54,
   "id": "eeeafe33",
   "metadata": {},
   "outputs": [
    {
     "name": "stdout",
     "output_type": "stream",
     "text": [
      "False\n",
      "False\n",
      "[False False  True False False]\n",
      "[False  True False False False]\n",
      "[ True  True  True  True False]\n"
     ]
    }
   ],
   "source": [
    "py_list = [1, 2, 3, 4, 5]\n",
    "np_array = np.array(py_list)         \n",
    "\n",
    "print(py_list == 3)\n",
    "print(py_list == 5)\n",
    "#print(py_list < 3)\n",
    "#this doesn't work, makes no sense comparing these\n",
    "\n",
    "print(np_array == 3)\n",
    "print(np_array == 2)\n",
    "print(np_array<= 4)"
   ]
  },
  {
   "cell_type": "markdown",
   "id": "fc261fca",
   "metadata": {},
   "source": [
    "### 2.8 Mathematics"
   ]
  },
  {
   "cell_type": "code",
   "execution_count": 55,
   "id": "9589196a",
   "metadata": {},
   "outputs": [],
   "source": [
    "py_list = [1, 2, 3, 4, 5]\n",
    "np_array = np.array(py_list)         "
   ]
  },
  {
   "cell_type": "code",
   "execution_count": 58,
   "id": "b8fee019",
   "metadata": {},
   "outputs": [
    {
     "name": "stdout",
     "output_type": "stream",
     "text": [
      "15\n",
      "5\n",
      "1\n"
     ]
    }
   ],
   "source": [
    "print(sum(py_list),\n",
    "      max(py_list),\n",
    "      min(py_list),\n",
    "      sep = \"\\n\")"
   ]
  },
  {
   "cell_type": "code",
   "execution_count": 65,
   "id": "8c654226",
   "metadata": {},
   "outputs": [
    {
     "ename": "AttributeError",
     "evalue": "'list' object has no attribute 'sum'",
     "output_type": "error",
     "traceback": [
      "\u001b[1;31m---------------------------------------------------------------------------\u001b[0m",
      "\u001b[1;31mAttributeError\u001b[0m                            Traceback (most recent call last)",
      "\u001b[1;32m~\\AppData\\Local\\Temp\\ipykernel_17596\\4131934029.py\u001b[0m in \u001b[0;36m<module>\u001b[1;34m\u001b[0m\n\u001b[1;32m----> 1\u001b[1;33m \u001b[0mprint\u001b[0m\u001b[1;33m(\u001b[0m\u001b[0mpy_list\u001b[0m\u001b[1;33m.\u001b[0m\u001b[0msum\u001b[0m\u001b[1;33m(\u001b[0m\u001b[1;33m)\u001b[0m\u001b[1;33m)\u001b[0m\u001b[1;33m\u001b[0m\u001b[1;33m\u001b[0m\u001b[0m\n\u001b[0m\u001b[0;32m      2\u001b[0m \u001b[1;31m#doesn't work like this, lists don't accept this method\u001b[0m\u001b[1;33m\u001b[0m\u001b[1;33m\u001b[0m\u001b[0m\n",
      "\u001b[1;31mAttributeError\u001b[0m: 'list' object has no attribute 'sum'"
     ]
    }
   ],
   "source": [
    "print(py_list.sum())\n",
    "#doesn't work like this, lists don't accept this method"
   ]
  },
  {
   "cell_type": "code",
   "execution_count": 64,
   "id": "fc18624b",
   "metadata": {},
   "outputs": [
    {
     "name": "stdout",
     "output_type": "stream",
     "text": [
      "15\n",
      "3.0\n",
      "5\n",
      "1\n"
     ]
    }
   ],
   "source": [
    "print(np_array.sum(),\n",
    "     np_array.mean(),\n",
    "     np_array.max(),\n",
    "     np_array.min(),\n",
    "     sep = \"\\n\")\n",
    "#np arrays have a bunch of inbuilt methods that you can use!"
   ]
  },
  {
   "cell_type": "markdown",
   "id": "6edd867f",
   "metadata": {},
   "source": [
    "## Exercise 1 :  Total recall?"
   ]
  },
  {
   "cell_type": "markdown",
   "id": "2f4c796d",
   "metadata": {},
   "source": [
    "1. Similarities between lists and arrays\n",
    "    1. Lists and arrays are both mutable and can be numerically indexed, since the order of items is important.\n",
    "    2. Lists and arrays allow for the storing of many different items, and can be one dimensional, two dimensional, three dimensional, or even more! Depends on the layers of []s you want to use.\n",
    "2. Differences between lists and arrays\n",
    "    1. Lists can contain values of different types with no problem, but arrays cannot. All values have to be of the same type\n",
    "    2. Function calls or method calls on lists and arrays tend to result in different results, since function calls on lists operate on the entire list whereas method calls on arrays operate on individual values within the list\n",
    "3. Dictionaries are a mutable datatype where there are key/value pairs for each entry, and order does not matter. For each key, there is an associated value."
   ]
  },
  {
   "cell_type": "markdown",
   "id": "8d31d4f3",
   "metadata": {},
   "source": [
    "## Exercise 2 :  Index me"
   ]
  },
  {
   "cell_type": "code",
   "execution_count": 66,
   "id": "cc45e244",
   "metadata": {},
   "outputs": [
    {
     "name": "stdout",
     "output_type": "stream",
     "text": [
      "a1\n",
      "c3\n",
      "e5\n",
      "g7\n",
      "i9\n"
     ]
    }
   ],
   "source": [
    "py_list = [\"a1\", \"b2\", \"c3\", \"d4\", \"e5\", \"f6\", \"g7\", \"h8\", \"i9\", \"j10\"]\n",
    "print(py_list[0])                    # Prints 'a1'\n",
    "print(py_list[2])                    # Prints 'c3'\n",
    "print(py_list[4])                    # Prints 'e5'\n",
    "print(py_list[6])                    # Prints 'g7'\n",
    "print(py_list[8])   # Prints 'i9'"
   ]
  },
  {
   "cell_type": "markdown",
   "id": "06b85323",
   "metadata": {},
   "source": [
    "## Exercise 3 :  Capitalise Heros"
   ]
  },
  {
   "cell_type": "code",
   "execution_count": 68,
   "id": "d7c16ced",
   "metadata": {},
   "outputs": [
    {
     "name": "stdout",
     "output_type": "stream",
     "text": [
      "{'Natasha Romanoff': 'BLACK WIDOW', 'Tony Stark': 'IRON MAN', 'Stephen Strange': 'DOCTOR STRANGE'}\n"
     ]
    }
   ],
   "source": [
    "superhero_info = {\"Natasha Romanoff\": \"Black Widow\",\n",
    "                  \"Tony Stark\": \"Iron Man\",\n",
    "                  \"Stephen Strange\": \"Doctor Strange\"\n",
    "                  }\n",
    "\n",
    "superhero_info['Tony Stark'] = superhero_info['Tony Stark'].upper()\n",
    "superhero_info[\"Natasha Romanoff\"] = superhero_info[\"Natasha Romanoff\"].upper()\n",
    "superhero_info[\"Stephen Strange\"] = superhero_info[\"Stephen Strange\"].upper()\n",
    "print(superhero_info)"
   ]
  },
  {
   "cell_type": "markdown",
   "id": "e03b6093",
   "metadata": {},
   "source": [
    "## Exercise 4 :  How many ones"
   ]
  },
  {
   "cell_type": "code",
   "execution_count": 6,
   "id": "ecf0f81e",
   "metadata": {},
   "outputs": [
    {
     "name": "stdout",
     "output_type": "stream",
     "text": [
      "There are 9 ones in this list.\n"
     ]
    }
   ],
   "source": [
    "numbers=[45, 60, 1, 30, 96, 1, 96, 57, 16, 1,\n",
    "        99, 62, 86, 43, 42, 60, 59, 1, 1, 35,\n",
    "        83, 47, 34, 28, 68, 23, 22, 92, 1, 79,\n",
    "        1, 29, 94, 72, 46, 47, 1, 74, 32, 20,\n",
    "        8, 37, 35, 1, 89, 29, 86, 19, 43, 61]                  \n",
    "np_numbers = np.array(numbers)\n",
    "np_ones = (np_numbers == 1)\n",
    "print (f'There are {np_ones.sum()} ones in this list.')\n"
   ]
  }
 ],
 "metadata": {
  "kernelspec": {
   "display_name": "Python 3 (ipykernel)",
   "language": "python",
   "name": "python3"
  },
  "language_info": {
   "codemirror_mode": {
    "name": "ipython",
    "version": 3
   },
   "file_extension": ".py",
   "mimetype": "text/x-python",
   "name": "python",
   "nbconvert_exporter": "python",
   "pygments_lexer": "ipython3",
   "version": "3.9.13"
  },
  "toc": {
   "base_numbering": 1,
   "nav_menu": {},
   "number_sections": true,
   "sideBar": true,
   "skip_h1_title": false,
   "title_cell": "Table of Contents",
   "title_sidebar": "Contents",
   "toc_cell": false,
   "toc_position": {},
   "toc_section_display": true,
   "toc_window_display": false
  },
  "varInspector": {
   "cols": {
    "lenName": 16,
    "lenType": 16,
    "lenVar": 40
   },
   "kernels_config": {
    "python": {
     "delete_cmd_postfix": "",
     "delete_cmd_prefix": "del ",
     "library": "var_list.py",
     "varRefreshCmd": "print(var_dic_list())"
    },
    "r": {
     "delete_cmd_postfix": ") ",
     "delete_cmd_prefix": "rm(",
     "library": "var_list.r",
     "varRefreshCmd": "cat(var_dic_list()) "
    }
   },
   "types_to_exclude": [
    "module",
    "function",
    "builtin_function_or_method",
    "instance",
    "_Feature"
   ],
   "window_display": false
  },
  "vscode": {
   "interpreter": {
    "hash": "31f2aee4e71d21fbe5cf8b01ff0e069b9275f58929596ceb00d14d90e3e16cd6"
   }
  }
 },
 "nbformat": 4,
 "nbformat_minor": 5
}
