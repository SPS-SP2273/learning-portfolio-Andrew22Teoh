{
 "cells": [
  {
   "cell_type": "markdown",
   "id": "123456",
   "metadata": {},
   "source": [
    "<div style=\"text-align:left;font-size:2em\"><span style=\"font-weight:bolder;font-size:1.25em\">SP2273 | Learning Portfolio</span><br><br><span style=\"font-weight:bold;color:darkred\">Storing Data (Good)</span></div>"
   ]
  },
  {
   "cell_type": "markdown",
   "id": "acf43a12",
   "metadata": {},
   "source": [
    "## 1 Subsetting: Indexing and Slicing"
   ]
  },
  {
   "cell_type": "markdown",
   "id": "3a51b31a",
   "metadata": {},
   "source": [
    "##### FYI: Subsetting just means to select. Indexing and slicing are just 2 different ways of subsetting a list, array, or string"
   ]
  },
  {
   "cell_type": "markdown",
   "id": "84c0170b",
   "metadata": {},
   "source": [
    "### 1.1 Indexing & Slicing 1D (Lists & Arrays)"
   ]
  },
  {
   "cell_type": "code",
   "execution_count": 1,
   "id": "a226da5f",
   "metadata": {},
   "outputs": [
    {
     "data": {
      "text/plain": [
       "['a1', 'c3', 'e5', 'g7', 'i9']"
      ]
     },
     "execution_count": 1,
     "metadata": {},
     "output_type": "execute_result"
    }
   ],
   "source": [
    "import numpy as np\n",
    "\n",
    "py_list=[\"a1\", \"b2\", \"c3\", \"d4\", \"e5\",\n",
    "         \"f6\", \"g7\", \"h8\", \"i9\", \"j10\"]\n",
    "np_array=np.array(py_list)\n",
    "\n",
    "# Pick one\n",
    "x = py_list\n",
    "#x = np_array\n",
    "\n",
    "x[-1000::2]"
   ]
  },
  {
   "cell_type": "markdown",
   "id": "bb55e633",
   "metadata": {},
   "source": [
    "### 1.2 Subsetting by masking (Arrays only)"
   ]
  },
  {
   "cell_type": "code",
   "execution_count": 24,
   "id": "54c4a009",
   "metadata": {},
   "outputs": [
    {
     "name": "stdout",
     "output_type": "stream",
     "text": [
      "[  0   1   2   3   4   5   6   7   8   9  10  11 100 101 102 103 104 105\n",
      " 106]\n",
      "[ True False  True False  True False  True False  True False  True False\n",
      "  True False  True False  True False  True]\n",
      "[  0   2   4   6   8  10 100 102 104 106]\n",
      "[  0   2   4   6   8  10 100 102 104 106]\n"
     ]
    }
   ],
   "source": [
    "np_array = np.array([0,1,2,3,4,5,6,7,8,9,10,11,100,101,102,103,104,105,106])\n",
    "mask = (np_array % 2) == 0\n",
    "\n",
    "print(np_array)\n",
    "print(mask)              #the values themselves are hidden from you but they still exist\n",
    "print(np_array[mask])      #we reveal the values that were hidden/masked by turning them into an np array again\n",
    "\n",
    "#an alternative way to do this masking and revealing is:\n",
    "print(np_array[np_array%2 == 0])"
   ]
  },
  {
   "cell_type": "code",
   "execution_count": 3,
   "id": "f61570de",
   "metadata": {},
   "outputs": [
    {
     "name": "stdout",
     "output_type": "stream",
     "text": [
      "[  0   2   4   6   8  10 100 102 104 106]\n",
      "[  1   3   5   7   9  11 101 103 105]\n",
      "[ True  True  True  True  True  True]\n",
      "[  5   6   7   8   9  10  11 100 101 102]\n",
      "[  0   1   2   3   4 101 102 103 104 105 106]\n"
     ]
    }
   ],
   "source": [
    "#There are additional operations you can carry out \n",
    "#Additional operations and filters onto your masking/unmasking\n",
    "\n",
    "np_array = np.array([0,1,2,3,4,5,6,7,8,9,10,11,100,101,102,103,104,105,106])\n",
    "\n",
    "print(np_array[np_array%2 == 0])\n",
    "\n",
    "print(np_array[~(np_array%2 == 0)])      #You use ~ in numpy arrays for NOT operator\n",
    "print((np_array[np_array >100]) == (np_array[~(np_array<=100)]))    #Another example of NOT operator usage\n",
    "\n",
    "print(np_array[(np_array < 103) & (np_array > 4)])     #You use % for AND operator\n",
    "\n",
    "print(np_array[(np_array < 5) | (np_array >= 101)]) #You use | for OR operator"
   ]
  },
  {
   "cell_type": "markdown",
   "id": "e238af9e",
   "metadata": {},
   "source": [
    "### 1.3 Indexing & Slicing 2D Lists"
   ]
  },
  {
   "cell_type": "code",
   "execution_count": 4,
   "id": "888f3f2b",
   "metadata": {},
   "outputs": [
    {
     "name": "stdout",
     "output_type": "stream",
     "text": [
      "[4, 'D']\n",
      "4\n",
      "[2, 'B']\n",
      "[4, 'D']\n"
     ]
    }
   ],
   "source": [
    "py_list_2d = [[1, \"A\"], [2, \"B\"], [3, \"C\"], [4, \"D\"],\n",
    "              [5, \"E\"], [6, \"F\"], [7, \"G\"], [8, \"H\"],\n",
    "              [9, \"I\"], [10, \"J\"]]\n",
    "\n",
    "print(py_list_2d[3])\n",
    "print(py_list_2d[3][0])\n",
    "print(py_list_2d[:4][1])       #py_list_2d[:4] returns another list, and then [1] indexes the second item (index 1) in that list\n",
    "print(py_list_2d[3:6][0])"
   ]
  },
  {
   "cell_type": "markdown",
   "id": "00314362",
   "metadata": {},
   "source": [
    "### 1.4 Indexing & Slicing 2D Arrays"
   ]
  },
  {
   "cell_type": "code",
   "execution_count": 5,
   "id": "00484025",
   "metadata": {},
   "outputs": [
    {
     "name": "stdout",
     "output_type": "stream",
     "text": [
      "[[1, 'A'], [2, 'B'], [3, 'C'], [4, 'D'], [5, 'E'], [6, 'F'], [7, 'G'], [8, 'H'], [9, 'I'], [10, 'J']]\n",
      "[['1' 'A']\n",
      " ['2' 'B']\n",
      " ['3' 'C']\n",
      " ['4' 'D']\n",
      " ['5' 'E']\n",
      " ['6' 'F']\n",
      " ['7' 'G']\n",
      " ['8' 'H']\n",
      " ['9' 'I']\n",
      " ['10' 'J']]\n"
     ]
    }
   ],
   "source": [
    "py_list_2d = [[1, \"A\"], [2, \"B\"], [3, \"C\"], [4, \"D\"],\n",
    "              [5, \"E\"], [6, \"F\"], [7, \"G\"], [8, \"H\"],\n",
    "              [9, \"I\"], [10, \"J\"]]\n",
    "\n",
    "print(py_list_2d)\n",
    "\n",
    "np_array_2d = np.array([[1, \"A\"], [2, \"B\"], [3, \"C\"], [4, \"D\"],\n",
    "                        [5, \"E\"], [6, \"F\"], [7, \"G\"], [8, \"H\"],\n",
    "                        [9, \"I\"], [10, \"J\"]])\n",
    "print(np_array_2d)\n",
    "\n",
    "#look how much nicer the printing formatting is on arrays than on lists! :D"
   ]
  },
  {
   "cell_type": "code",
   "execution_count": 6,
   "id": "eddfd918",
   "metadata": {},
   "outputs": [
    {
     "name": "stdout",
     "output_type": "stream",
     "text": [
      "['4' 'D']\n",
      "4\n",
      "['A' 'B' 'C' 'D']\n",
      "['4' '5' '6']\n",
      "['1' '2' '3' '4' '5' '6' '7' '8' '9' '10']\n"
     ]
    }
   ],
   "source": [
    "np_array_2d = np.array([[1, \"A\"], [2, \"B\"], [3, \"C\"], [4, \"D\"],\n",
    "                        [5, \"E\"], [6, \"F\"], [7, \"G\"], [8, \"H\"],\n",
    "                        [9, \"I\"], [10, \"J\"]])\n",
    "\n",
    "print(np_array_2d[3])     #same result as printing a python list index\n",
    "print(np_array_2d[3,0])   #different syntax from printing a list index! [3,0] instead of [3][0]\n",
    "print(np_array_2d[:4,1])  #returns item in index [1] of each index from [0] to [3]\n",
    "print(np_array_2d[3:6,0]) #returns item in index [0] of each index from [3] to [5]\n",
    "print(np_array_2d[:,0])   #returns item in index [0] for all items in array"
   ]
  },
  {
   "cell_type": "markdown",
   "id": "5fb297b9",
   "metadata": {},
   "source": [
    "### 1.5 Growing lists"
   ]
  },
  {
   "cell_type": "code",
   "execution_count": 7,
   "id": "42fcd0b4",
   "metadata": {},
   "outputs": [
    {
     "data": {
      "text/plain": [
       "[1, 1, 1, 1, 1, 1, 1, 1, 1, 1]"
      ]
     },
     "execution_count": 7,
     "metadata": {},
     "output_type": "execute_result"
    }
   ],
   "source": [
    "x = [1]*10\n",
    "\n",
    "#print(x)           #You can type this to display formal proper output\n",
    "#Alternatively, you can just let Jupyter give you (non printed) output\n",
    "x"
   ]
  },
  {
   "cell_type": "code",
   "execution_count": 8,
   "id": "ef51af57",
   "metadata": {},
   "outputs": [
    {
     "data": {
      "text/plain": [
       "[1, 2, 3, 'Hello World!', 2, None, True]"
      ]
     },
     "execution_count": 8,
     "metadata": {},
     "output_type": "execute_result"
    }
   ],
   "source": [
    "x = [1]\n",
    "x += [2]\n",
    "x += [3]\n",
    "x += [\"Hello World!\"]\n",
    "x += [2]\n",
    "x += [None]\n",
    "x += [True]\n",
    "x"
   ]
  },
  {
   "cell_type": "code",
   "execution_count": 9,
   "id": "c9395eef",
   "metadata": {},
   "outputs": [
    {
     "name": "stdout",
     "output_type": "stream",
     "text": [
      "[1, 55, 77, 2, 'New']\n"
     ]
    }
   ],
   "source": [
    "x = [1]\n",
    "x += [55, 77, 2, \"New\"]\n",
    "print(x)"
   ]
  },
  {
   "cell_type": "code",
   "execution_count": 10,
   "id": "20420d4e",
   "metadata": {},
   "outputs": [
    {
     "name": "stdout",
     "output_type": "stream",
     "text": [
      "['Figure', 45, False, 3, 55]\n"
     ]
    }
   ],
   "source": [
    "x = [55]\n",
    "x = [\"Figure\", 45, False, 3] + x\n",
    "print(x)"
   ]
  },
  {
   "cell_type": "code",
   "execution_count": 11,
   "id": "08571f75",
   "metadata": {},
   "outputs": [
    {
     "name": "stdout",
     "output_type": "stream",
     "text": [
      "[1, 2, '', False, 'False', 1]\n"
     ]
    }
   ],
   "source": [
    "x = [1]\n",
    "x.append(2)\n",
    "x.append(\"\")\n",
    "x.append(False)\n",
    "x.append(\"False\")\n",
    "x.append(1)\n",
    "\n",
    "print(x)"
   ]
  },
  {
   "cell_type": "markdown",
   "id": "403084fd",
   "metadata": {},
   "source": [
    "## 2 Some loose ends"
   ]
  },
  {
   "cell_type": "markdown",
   "id": "955da587",
   "metadata": {},
   "source": [
    "### 2.1 Tuples"
   ]
  },
  {
   "cell_type": "code",
   "execution_count": 12,
   "id": "388ca123",
   "metadata": {},
   "outputs": [
    {
     "name": "stdout",
     "output_type": "stream",
     "text": [
      "1\n",
      "1\n",
      "[1, 20, 3, 44]\n",
      "('A', '10', 1, 2, 3, 44)\n"
     ]
    }
   ],
   "source": [
    "a = (1,2,3)     #a tuple\n",
    "b = [1,2,3]     #a list\n",
    "\n",
    "print(a[0])\n",
    "print(b[0])     #printing the identity for lists and tuples is done the same way\n",
    "\n",
    "b[1] = 20\n",
    "b += [44]\n",
    "print(b)        #but, though you can alter and add to lists\n",
    "\n",
    "#a[1] = 20      #you cannot alter values within the tuple\n",
    "a += (44,)\n",
    "a = (\"A\",\"10\") + a    #but you can add other tuples to the front or back of the tuple\n",
    "print(a)"
   ]
  },
  {
   "cell_type": "markdown",
   "id": "f5d3104e",
   "metadata": {},
   "source": [
    "### 2.2 Be VERY careful when copying"
   ]
  },
  {
   "cell_type": "code",
   "execution_count": 13,
   "id": "f9771565",
   "metadata": {},
   "outputs": [
    {
     "name": "stdout",
     "output_type": "stream",
     "text": [
      "The id of x is 2380359688576, and the contents are [1, 2, 3, 4, 5]\n",
      "The id of y is 2380359688384, and the contents are [1, 2, 3, 4, 5]\n",
      "The id of z is 2380359688768, and the contents are [1, 2, 3, 4, 5]\n",
      "\n",
      "The below is a bad example of what happens when you don't use list.copy()\n",
      "\n",
      "The id of a is 2380359688832, and the contents are [1, 2, 3, 4, 5]\n",
      "The id of b is 2380359688832, and the contents are [1, 2, 3, 4, 5]\n",
      "The id of c is 2380359688832, and the contents are [1, 2, 3, 4, 5]\n"
     ]
    }
   ],
   "source": [
    "x = [1, 2, 3, 4, 5]\n",
    "y = x.copy()             #Not the same as y = x\n",
    "z = x.copy()             #Not the same as z = x\n",
    "\n",
    "print(f'The id of x is {id(x)}, and the contents are {x}')\n",
    "print(f'The id of y is {id(y)}, and the contents are {y}')\n",
    "print(f'The id of z is {id(z)}, and the contents are {z}')\n",
    "#The 3 lists are identical, but they are different items within your memory\n",
    "#This is identifiable by their different IDs\n",
    "\n",
    "print(\"\\nThe below is a bad example of what happens when you don't use list.copy()\\n\")\n",
    "a = [1,2,3,4,5]\n",
    "b = a\n",
    "c = a\n",
    "\n",
    "print(f'The id of a is {id(a)}, and the contents are {a}')\n",
    "print(f'The id of b is {id(b)}, and the contents are {b}')\n",
    "print(f'The id of c is {id(c)}, and the contents are {c}')"
   ]
  },
  {
   "cell_type": "code",
   "execution_count": 14,
   "id": "7356338c",
   "metadata": {},
   "outputs": [
    {
     "name": "stdout",
     "output_type": "stream",
     "text": [
      "[10, 2, 3, 4, 5]\n",
      "[1, 2, 3, 4, 5]\n"
     ]
    }
   ],
   "source": [
    "x = [1, 2, 3, 4, 5]\n",
    "y = x.copy()             #Not the same as y = x\n",
    "z = x.copy()             #Not the same as z = x\n",
    "\n",
    "x[0] = 10\n",
    "print(x)\n",
    "print(y)                 #List y is not changed!"
   ]
  },
  {
   "cell_type": "markdown",
   "id": "63269618",
   "metadata": {},
   "source": [
    "## Exercise 1 :  Total recall?"
   ]
  },
  {
   "cell_type": "markdown",
   "id": "b2fb9f3d",
   "metadata": {},
   "source": [
    "|Term|Brief Description|\n",
    "|:--|:--|\n",
    "|Subsetting|Refers to selecting one or more values from a list or array (or tuple?|\n",
    "|Indexing|Subsetting a single value|\n",
    "|Slicing|Subsetting a range of values|\n",
    "|Masking|Checking a condition against the values of an array to form a new array that displays the output of this condition on said array|"
   ]
  },
  {
   "cell_type": "markdown",
   "id": "7fa466a7",
   "metadata": {},
   "source": [
    "## Exercise 2 :  Show me the ‘odd’ letters"
   ]
  },
  {
   "cell_type": "code",
   "execution_count": 68,
   "id": "ea651c75",
   "metadata": {},
   "outputs": [
    {
     "name": "stdout",
     "output_type": "stream",
     "text": [
      "The letters that correspond to the odd numbers are ['A' 'C' 'E' 'G' 'I'].\n"
     ]
    }
   ],
   "source": [
    "np_array_2d = np.array([[1, \"A\"], [3, \"C\"], [2, \"B\"], [4, \"D\"],\n",
    "                        [5, \"E\"], [7, \"G\"], [6, \"F\"], [8, \"H\"],\n",
    "                        [10, \"J\"], [9, \"I\"]])\n",
    "\n",
    "np_array_2d_numbers = np.array(np_array_2d[:,0],dtype=\"int\")\n",
    "#Alternatively\n",
    "#np_array_2d_numbers = (np.array(np_array_2d[:,0]).astype(int))\n",
    "\n",
    "mask = (np_array_2d_numbers %2 == 1)\n",
    "np_array_2d_odds = np_array_2d[mask]\n",
    "print(f'The letters that correspond to the odd numbers are {np_array_2d_odds[:,1]}.')"
   ]
  }
 ],
 "metadata": {
  "kernelspec": {
   "display_name": "Python 3 (ipykernel)",
   "language": "python",
   "name": "python3"
  },
  "language_info": {
   "codemirror_mode": {
    "name": "ipython",
    "version": 3
   },
   "file_extension": ".py",
   "mimetype": "text/x-python",
   "name": "python",
   "nbconvert_exporter": "python",
   "pygments_lexer": "ipython3",
   "version": "3.9.13"
  },
  "toc": {
   "base_numbering": 1,
   "nav_menu": {},
   "number_sections": true,
   "sideBar": true,
   "skip_h1_title": false,
   "title_cell": "Table of Contents",
   "title_sidebar": "Contents",
   "toc_cell": false,
   "toc_position": {},
   "toc_section_display": true,
   "toc_window_display": false
  },
  "varInspector": {
   "cols": {
    "lenName": 16,
    "lenType": 16,
    "lenVar": 40
   },
   "kernels_config": {
    "python": {
     "delete_cmd_postfix": "",
     "delete_cmd_prefix": "del ",
     "library": "var_list.py",
     "varRefreshCmd": "print(var_dic_list())"
    },
    "r": {
     "delete_cmd_postfix": ") ",
     "delete_cmd_prefix": "rm(",
     "library": "var_list.r",
     "varRefreshCmd": "cat(var_dic_list()) "
    }
   },
   "types_to_exclude": [
    "module",
    "function",
    "builtin_function_or_method",
    "instance",
    "_Feature"
   ],
   "window_display": false
  },
  "vscode": {
   "interpreter": {
    "hash": "31f2aee4e71d21fbe5cf8b01ff0e069b9275f58929596ceb00d14d90e3e16cd6"
   }
  }
 },
 "nbformat": 4,
 "nbformat_minor": 5
}
