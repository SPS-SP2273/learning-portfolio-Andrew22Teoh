{
 "cells": [
  {
   "cell_type": "markdown",
   "id": "123456",
   "metadata": {},
   "source": [
    "<div style=\"text-align:left;font-size:2em\"><span style=\"font-weight:bolder;font-size:1.25em\">SP2273 | Learning Portfolio</span><br><br><span style=\"font-weight:bold;color:darkred\">Loops (Nice)</span></div>"
   ]
  },
  {
   "cell_type": "markdown",
   "id": "52680774",
   "metadata": {},
   "source": [
    "## 1 There is more…"
   ]
  },
  {
   "cell_type": "markdown",
   "id": "8066bb74",
   "metadata": {},
   "source": [
    "### 1.1 There is more to list comprehension"
   ]
  },
  {
   "cell_type": "code",
   "execution_count": 2,
   "id": "d572c754",
   "metadata": {},
   "outputs": [
    {
     "data": {
      "text/plain": [
       "[1, 2, 3, 4, 5, 6, 7]"
      ]
     },
     "execution_count": 2,
     "metadata": {},
     "output_type": "execute_result"
    }
   ],
   "source": [
    "nested_list=[[1, 2, 3], [4, 5, 6, 7]]\n",
    "[y for x in nested_list for y in x]\n",
    "#flattening a 2d nested list"
   ]
  },
  {
   "cell_type": "code",
   "execution_count": 3,
   "id": "80400964",
   "metadata": {},
   "outputs": [
    {
     "data": {
      "text/plain": [
       "[1, 2, 3, 4, 5, 6, 7, 8, 9]"
      ]
     },
     "execution_count": 3,
     "metadata": {},
     "output_type": "execute_result"
    }
   ],
   "source": [
    "other_list = [[[1,2,3], [4,5,6]],[[7],[8,9]]]\n",
    "[c for a in (a for b in other_list for a in b) for c in a]\n",
    "\n",
    "#flattening a 3d nested list"
   ]
  },
  {
   "cell_type": "markdown",
   "id": "e359c763",
   "metadata": {},
   "source": [
    "### 1.2 Zipping a dictionary"
   ]
  },
  {
   "cell_type": "code",
   "execution_count": 4,
   "id": "91796853",
   "metadata": {},
   "outputs": [
    {
     "name": "stdout",
     "output_type": "stream",
     "text": [
      "{1: 'a', 2: 'b', 3: 'c', 4: 'd', 5: 'e', 6: 'f', 7: 'g', 8: 'h', 9: 'i', 10: 'j', 11: 'k', 12: 'l'}\n",
      "{'a': 1, 'b': 2, 'c': 3, 'd': 4, 'e': 5, 'f': 6, 'g': 7, 'h': 8, 'i': 9, 'j': 10, 'k': 11, 'l': 12}\n"
     ]
    }
   ],
   "source": [
    "list_a = [1,2,3,4,5,6,7,8,9,10,11,12,13,14,15,16]\n",
    "list_b = ['a', 'b', 'c', 'd', 'e','f','g','h','i','j','k','l']\n",
    "merriam_webster = dict(zip(list_a, list_b))\n",
    "print(merriam_webster)\n",
    "oxford = dict(zip(list_b,list_a))\n",
    "print(oxford)\n",
    "#To note: if list b is too long, 'k' and 'l' values are just ignored\n",
    "#If list a is too long, the remaining keys are also just ignored\n",
    "\n",
    "#Therefore, length of an overall dictionary comprised of zipped lists is the length of the shorter list"
   ]
  },
  {
   "cell_type": "markdown",
   "id": "75be5af6",
   "metadata": {},
   "source": [
    "### 1.3 for and while has an else"
   ]
  },
  {
   "cell_type": "code",
   "execution_count": 5,
   "id": "674abe09",
   "metadata": {},
   "outputs": [
    {
     "name": "stdout",
     "output_type": "stream",
     "text": [
      "1\n",
      "2\n",
      "4\n",
      "5\n",
      "6\n",
      "7\n"
     ]
    }
   ],
   "source": [
    "for i in [1,2,3,4,5,6,7,8,9]:\n",
    "    if i == 3:\n",
    "        continue\n",
    "    elif i == 8:\n",
    "        break\n",
    "    else:\n",
    "        print(i)\n",
    "else:                                    #only executes if the loop finishes running without break\n",
    "    print(\"And we're done!\")"
   ]
  },
  {
   "cell_type": "code",
   "execution_count": 6,
   "id": "63677f64",
   "metadata": {},
   "outputs": [
    {
     "name": "stdout",
     "output_type": "stream",
     "text": [
      "I have 2 apples\n",
      "I have 4 apples\n",
      "I have 6 apples\n",
      "I have 8 apples\n",
      "I have 10 apples\n",
      "I have 12 apples\n",
      "I have 14 apples\n",
      "I have 16 apples\n",
      "I have 18 apples\n",
      "I have 20 apples\n",
      "But I'm allergic to apples :'(\n"
     ]
    }
   ],
   "source": [
    "i = 0\n",
    "while i < 20:\n",
    "    i += 1\n",
    "    if i % 2 == 0:\n",
    "        print (f'I have {i} apples')\n",
    "    else:\n",
    "        pass\n",
    "        #is pass and continue the same? In this context at least? Both seem to do the same thing\n",
    "        #I think pass just means pretend nothing happened, same as not having an else: condition\n",
    "        #While continue means stop reading, and go to the next i value.\n",
    "        #They only seem the same in this context because pass/continue are the last line in the loop\n",
    "        #Remember to check that this is correct or if this holds up I'm too lazy to try it right now \n",
    "\n",
    "else:\n",
    "    print (\"But I'm allergic to apples :'(\")"
   ]
  },
  {
   "cell_type": "markdown",
   "id": "17eb927c",
   "metadata": {},
   "source": [
    "## Explore 1 :  Changing a list"
   ]
  },
  {
   "cell_type": "code",
   "execution_count": 7,
   "id": "e8a2d36a",
   "metadata": {},
   "outputs": [
    {
     "name": "stdout",
     "output_type": "stream",
     "text": [
      "['apple', 'banana', 'jackfruit', 'watermelons', 'durian', 'mangoes', 'strawberries']\n"
     ]
    }
   ],
   "source": [
    "fruits = [\"apple\", \"banana\", \"jackfruit\",\n",
    "          \"pineapple\", \"papaya\", \"watermelons\",\n",
    "          \"peaches\", \"durian\",  \"mangoes\",\n",
    "          \"strawberries\", \"passionfruit\"\n",
    "          ]\n",
    "'''\n",
    "for fruit in fruits:\n",
    "    if fruit[0] == \"p\":\n",
    "        fruits.remove(fruit)\n",
    "#this doesn't work because it iterates through each item in the list, but once you remove \"pineapple\"\n",
    "#then you are done checking fruits[3]\n",
    "#therefore, removing fruits[3] makes \"papaya\" the new fruits[3]\n",
    "#but your loop is already moving on to check fruits[4] since it thinks that fruit[3] has been checked\n",
    "'''\n",
    "\n",
    "counter = 0\n",
    "while counter < len(fruits):\n",
    "    if fruits[counter][0] == \"p\":\n",
    "        fruits.remove(fruits[counter])\n",
    "    else:\n",
    "        counter += 1\n",
    "\n",
    "\n",
    "print(fruits)"
   ]
  },
  {
   "cell_type": "markdown",
   "id": "e10e9df4",
   "metadata": {},
   "source": [
    "## Explore 2 :  A list of power"
   ]
  },
  {
   "cell_type": "code",
   "execution_count": 8,
   "id": "8b247a1d",
   "metadata": {},
   "outputs": [
    {
     "name": "stdout",
     "output_type": "stream",
     "text": [
      "[[1, 1, 1], [2, 4, 8], [3, 9, 27], [4, 16, 64], [5, 25, 125]]\n"
     ]
    }
   ],
   "source": [
    "maximum_n = 5\n",
    "result = []\n",
    "for i in range(maximum_n):\n",
    "    new_list = []\n",
    "    result.append(new_list)\n",
    "\n",
    "#result = [[]] * maximum_n\n",
    "#print(id(result[0]))\n",
    "#print(id(result[1]))\n",
    "#print(id(result[3]))\n",
    "#the id for all of the nested lists is the same, due to the multiplication above\n",
    "\n",
    "for n in range(1, maximum_n + 1):\n",
    "    result[n - 1].append(n)\n",
    "    result[n - 1].append(n**2)\n",
    "    result[n - 1].append(n**3)\n",
    "    \n",
    "print(result)"
   ]
  },
  {
   "cell_type": "markdown",
   "id": "d09173e1",
   "metadata": {},
   "source": [
    "## Explore 3 :  Time profiling"
   ]
  },
  {
   "cell_type": "markdown",
   "id": "3276f680",
   "metadata": {},
   "source": [
    "|#|Option 1|Option 2|Result\n",
    "|:-:|:--|:--|:--|\n",
    "| 1|Creating a list of squares with *for* loop|Creating a list of squares with *while* loop|The *for* loop is slightly faster than the *while* loop|\n",
    "|2|Creating a list of squares with a *for* loop|Creating a list of squares with a **list comprehension** loop|**List comprehension** is slightly faster|\n",
    "|3|Creating a list of squares using **list** *append()*|Creating a list of squares using **list** *+=*|**List** *append()* is slightly faster|\n",
    "|4|Creating a list of squares using **list** *append()*| Creating a list of squares using *append()* of **Numpy**|**List** *append()* is substantially and significantly faster than **Numpy** *append()*|\n",
    "|5|Creating a list of squares using **Numpy**|Creating a list of squares using **List comprehension** loop|**List comprehension** is much faster than **Numpy**|"
   ]
  },
  {
   "cell_type": "code",
   "execution_count": 9,
   "id": "b67b526f",
   "metadata": {},
   "outputs": [
    {
     "name": "stdout",
     "output_type": "stream",
     "text": [
      "7.23 µs ± 188 ns per loop (mean ± std. dev. of 7 runs, 100000 loops each)\n"
     ]
    }
   ],
   "source": [
    "%%timeit\n",
    "n = 10\n",
    "squares = []\n",
    "for i in range(1,n+1):\n",
    "    squares.append(i**2)"
   ]
  },
  {
   "cell_type": "code",
   "execution_count": 15,
   "id": "b57d5da0",
   "metadata": {},
   "outputs": [],
   "source": [
    "import numpy as np"
   ]
  },
  {
   "cell_type": "code",
   "execution_count": 17,
   "id": "8a897435",
   "metadata": {},
   "outputs": [
    {
     "name": "stdout",
     "output_type": "stream",
     "text": [
      "141 µs ± 8.5 µs per loop (mean ± std. dev. of 7 runs, 10000 loops each)\n"
     ]
    }
   ],
   "source": [
    "%%timeit\n",
    "\n",
    "n = 10\n",
    "squares = []\n",
    "for i in range(1,n+1):\n",
    "    squares = np.append(squares, np.array([i**2]))"
   ]
  },
  {
   "cell_type": "code",
   "execution_count": 12,
   "id": "edb0149d",
   "metadata": {},
   "outputs": [
    {
     "name": "stdout",
     "output_type": "stream",
     "text": [
      "8.21 µs ± 325 ns per loop (mean ± std. dev. of 7 runs, 100000 loops each)\n"
     ]
    }
   ],
   "source": [
    "%%timeit\n",
    "n = 10\n",
    "squares = []\n",
    "for i in range(1,n+1):\n",
    "    squares += [i**2]"
   ]
  },
  {
   "cell_type": "code",
   "execution_count": 13,
   "id": "1fbc5993",
   "metadata": {},
   "outputs": [
    {
     "name": "stdout",
     "output_type": "stream",
     "text": [
      "8.05 µs ± 241 ns per loop (mean ± std. dev. of 7 runs, 100000 loops each)\n"
     ]
    }
   ],
   "source": [
    "%%timeit\n",
    "n = 10\n",
    "squares = []\n",
    "count = 1\n",
    "while count <= n:\n",
    "    squares.append(count**2)\n",
    "    count += 1"
   ]
  },
  {
   "cell_type": "code",
   "execution_count": 18,
   "id": "30930c87",
   "metadata": {},
   "outputs": [
    {
     "name": "stdout",
     "output_type": "stream",
     "text": [
      "6.98 µs ± 164 ns per loop (mean ± std. dev. of 7 runs, 100000 loops each)\n"
     ]
    }
   ],
   "source": [
    "%%timeit\n",
    "n = 10\n",
    "\n",
    "list_of_squares = [i**2 for i in range(1,n+1)]"
   ]
  }
 ],
 "metadata": {
  "kernelspec": {
   "display_name": "Python 3 (ipykernel)",
   "language": "python",
   "name": "python3"
  },
  "language_info": {
   "codemirror_mode": {
    "name": "ipython",
    "version": 3
   },
   "file_extension": ".py",
   "mimetype": "text/x-python",
   "name": "python",
   "nbconvert_exporter": "python",
   "pygments_lexer": "ipython3",
   "version": "3.9.13"
  },
  "toc": {
   "base_numbering": 1,
   "nav_menu": {},
   "number_sections": true,
   "sideBar": true,
   "skip_h1_title": false,
   "title_cell": "Table of Contents",
   "title_sidebar": "Contents",
   "toc_cell": false,
   "toc_position": {},
   "toc_section_display": true,
   "toc_window_display": false
  },
  "varInspector": {
   "cols": {
    "lenName": 16,
    "lenType": 16,
    "lenVar": 40
   },
   "kernels_config": {
    "python": {
     "delete_cmd_postfix": "",
     "delete_cmd_prefix": "del ",
     "library": "var_list.py",
     "varRefreshCmd": "print(var_dic_list())"
    },
    "r": {
     "delete_cmd_postfix": ") ",
     "delete_cmd_prefix": "rm(",
     "library": "var_list.r",
     "varRefreshCmd": "cat(var_dic_list()) "
    }
   },
   "types_to_exclude": [
    "module",
    "function",
    "builtin_function_or_method",
    "instance",
    "_Feature"
   ],
   "window_display": false
  },
  "vscode": {
   "interpreter": {
    "hash": "31f2aee4e71d21fbe5cf8b01ff0e069b9275f58929596ceb00d14d90e3e16cd6"
   }
  }
 },
 "nbformat": 4,
 "nbformat_minor": 5
}
