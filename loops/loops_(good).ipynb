{
 "cells": [
  {
   "cell_type": "markdown",
   "id": "123456",
   "metadata": {},
   "source": [
    "<div style=\"text-align:left;font-size:2em\"><span style=\"font-weight:bolder;font-size:1.25em\">SP2273 | Learning Portfolio</span><br><br><span style=\"font-weight:bold;color:darkred\">Loops (Good)</span></div>"
   ]
  },
  {
   "cell_type": "markdown",
   "id": "687feff1",
   "metadata": {},
   "source": [
    "## 1 Interrupting the flow"
   ]
  },
  {
   "cell_type": "code",
   "execution_count": 1,
   "id": "c6e905d4",
   "metadata": {},
   "outputs": [
    {
     "name": "stdout",
     "output_type": "stream",
     "text": [
      "0\n",
      "1\n",
      "2\n",
      "3\n",
      "4\n",
      "5\n",
      "6\n",
      "7\n",
      "8\n",
      "9\n",
      "10\n",
      "11\n",
      "12\n",
      "14\n",
      "15\n",
      "16\n",
      "I don't like 17...\n",
      "And we're done!\n"
     ]
    }
   ],
   "source": [
    "for i in range(25):\n",
    "    if i == 13:\n",
    "        continue\n",
    "    if i == 17:\n",
    "        print(\"I don't like 17...\")\n",
    "        break\n",
    "    print(i)\n",
    "print(\"And we're done!\")"
   ]
  },
  {
   "cell_type": "markdown",
   "id": "79e47bb0",
   "metadata": {},
   "source": [
    "## 2 List comprehension!"
   ]
  },
  {
   "cell_type": "markdown",
   "id": "6f525663",
   "metadata": {},
   "source": [
    "### 2.1 Basic syntax"
   ]
  },
  {
   "cell_type": "code",
   "execution_count": 2,
   "id": "121cd112",
   "metadata": {},
   "outputs": [
    {
     "name": "stdout",
     "output_type": "stream",
     "text": [
      "[10, 30, 50, 70, 90, 110, 130, 150, 170, 190, 210, 230, 250, 270, 290]\n"
     ]
    }
   ],
   "source": [
    "first_list = [i for i in range(1, 31, 2)]\n",
    "second_list = [10*i for i in first_list]\n",
    "print(second_list)"
   ]
  },
  {
   "cell_type": "markdown",
   "id": "c04ca137",
   "metadata": {},
   "source": [
    "### 2.2 List comprehension with conditions"
   ]
  },
  {
   "cell_type": "code",
   "execution_count": 3,
   "id": "73b7ad54",
   "metadata": {},
   "outputs": [
    {
     "name": "stdout",
     "output_type": "stream",
     "text": [
      "[4, 16, 36, 64, 100, 144, 196, 256, 324, 400, 484, 576, 676]\n"
     ]
    }
   ],
   "source": [
    "first_list = [1,2,3,4,5,6,7,8,9,10,11,12,13,14,15,16,17,18,19,20,21,22,23,24,25,26,27,28,29,30,31,32]\n",
    "second_list = [i**2 for i in first_list if (i % 2 == 0 and i <28)]\n",
    "\n",
    "print(second_list)"
   ]
  },
  {
   "cell_type": "markdown",
   "id": "7500be5a",
   "metadata": {},
   "source": [
    "## 3 Other useful stuff"
   ]
  },
  {
   "cell_type": "markdown",
   "id": "51847206",
   "metadata": {},
   "source": [
    "### 3.1 for with unpacking"
   ]
  },
  {
   "cell_type": "code",
   "execution_count": 4,
   "id": "f45c170a",
   "metadata": {},
   "outputs": [
    {
     "name": "stdout",
     "output_type": "stream",
     "text": [
      "x = 1, y = 2, z = 3\n",
      "\n"
     ]
    }
   ],
   "source": [
    "x, y, z = [1, 2, 3]\n",
    "print(f'x = {x}, y = {y}, z = {z}')\n",
    "#this allows you to make a list as a dumpground for values with names.\n",
    "#used only when you don't care about the main list or its length and you never need to refer to the whole list\n",
    "#since the actual list itself is impossible to call (since it's unnamed)\n",
    "#the benefit this offers is that you can easily have names for items without having to make a ton of different variables\n",
    "\n",
    "'''\n",
    "x, y, z = 1, 2, 3\n",
    "print(f'x = {x}, y = {y}, z = {z}')         #this is another way to do the same thing, but you'd have to make many variables\n",
    "'''\n",
    "print()        #i don't want jupyter to output the comment above"
   ]
  },
  {
   "cell_type": "markdown",
   "id": "bf0dcc0d",
   "metadata": {},
   "source": [
    "### 3.2 for with a zip()"
   ]
  },
  {
   "cell_type": "code",
   "execution_count": 5,
   "id": "f03a8d9f",
   "metadata": {},
   "outputs": [
    {
     "name": "stdout",
     "output_type": "stream",
     "text": [
      "Natasha Romanoff is Marvel's Black Widow! Their premeire movie came out in 2021.\n",
      "Tony Stark is Marvel's Iron Man! Their premeire movie came out in 2008.\n",
      "Stephen Strange is Marvel's Doctor Strange! Their premeire movie came out in 2016.\n",
      "<class 'zip'>\n"
     ]
    }
   ],
   "source": [
    "super_names = [\"Black Widow\", \"Iron Man\", \"Doctor Strange\"]\n",
    "real_names = [\"Natasha Romanoff\", \"Tony Stark\", \"Stephen Strange\"]\n",
    "movie_release_dates =[2021, 2008, 2016]\n",
    "\n",
    "for real_name, super_name, release_date in zip(real_names,super_names, movie_release_dates):\n",
    "    print(f\"{real_name} is Marvel's {super_name}! Their premeire movie came out in {release_date}.\")\n",
    "    \n",
    "a = zip(real_names, super_names, movie_release_dates)\n",
    "print(type(a))"
   ]
  },
  {
   "cell_type": "markdown",
   "id": "8409cc0a",
   "metadata": {},
   "source": [
    "### 3.3 for with dictionaries"
   ]
  },
  {
   "cell_type": "code",
   "execution_count": 6,
   "id": "46a7797e",
   "metadata": {},
   "outputs": [
    {
     "name": "stdout",
     "output_type": "stream",
     "text": [
      "Black Widow's real identity is Natasha Romanoff\n",
      "Iron Man's real identity is Tony Stark\n",
      "Doctor Strange's real identity is Stephen Strange\n"
     ]
    }
   ],
   "source": [
    "super_names = [\"Black Widow\", \"Iron Man\", \"Doctor Strange\"]\n",
    "real_names = [\"Natasha Romanoff\", \"Tony Stark\", \"Stephen Strange\"]\n",
    "super_aliases = {}\n",
    "for super_name, real_name in zip(super_names, real_names):\n",
    "    super_aliases[super_name]= real_name\n",
    "\n",
    "for super_name, real_name in super_aliases.items():\n",
    "    print(f\"{super_name}'s real identity is {real_name}\")"
   ]
  },
  {
   "cell_type": "markdown",
   "id": "1e18ad73",
   "metadata": {},
   "source": [
    "## Exercise 1 :  Make me an odd list"
   ]
  },
  {
   "cell_type": "code",
   "execution_count": 7,
   "id": "2cedd329",
   "metadata": {},
   "outputs": [
    {
     "name": "stdout",
     "output_type": "stream",
     "text": [
      "1.34 µs ± 17 ns per loop (mean ± std. dev. of 7 runs, 1000000 loops each)\n"
     ]
    }
   ],
   "source": [
    "%%timeit\n",
    "odd_list = []\n",
    "for i in range(1,10,2):\n",
    "    odd_list.append(i**2)"
   ]
  },
  {
   "cell_type": "markdown",
   "id": "183e51fe",
   "metadata": {},
   "source": [
    "## Exercise 2 :  Make me another odd list"
   ]
  },
  {
   "cell_type": "code",
   "execution_count": 8,
   "id": "2fc93a21",
   "metadata": {},
   "outputs": [
    {
     "name": "stdout",
     "output_type": "stream",
     "text": [
      "1.3 µs ± 15.8 ns per loop (mean ± std. dev. of 7 runs, 1000000 loops each)\n"
     ]
    }
   ],
   "source": [
    "%%timeit\n",
    "odd_list = [i**2 for i in range(1,10,2)]"
   ]
  },
  {
   "cell_type": "markdown",
   "id": "c227ff4c",
   "metadata": {},
   "source": [
    "## Exercise 3 :  Time me!"
   ]
  },
  {
   "cell_type": "markdown",
   "id": "7341e5e0",
   "metadata": {},
   "source": [
    "Seems like list comprehension is very slightly faster, at 1.3 microseconds per loop compared to the 1.34 microseconds of the loop."
   ]
  }
 ],
 "metadata": {
  "kernelspec": {
   "display_name": "Python 3 (ipykernel)",
   "language": "python",
   "name": "python3"
  },
  "language_info": {
   "codemirror_mode": {
    "name": "ipython",
    "version": 3
   },
   "file_extension": ".py",
   "mimetype": "text/x-python",
   "name": "python",
   "nbconvert_exporter": "python",
   "pygments_lexer": "ipython3",
   "version": "3.9.13"
  },
  "toc": {
   "base_numbering": 1,
   "nav_menu": {},
   "number_sections": true,
   "sideBar": true,
   "skip_h1_title": false,
   "title_cell": "Table of Contents",
   "title_sidebar": "Contents",
   "toc_cell": false,
   "toc_position": {},
   "toc_section_display": true,
   "toc_window_display": false
  },
  "varInspector": {
   "cols": {
    "lenName": 16,
    "lenType": 16,
    "lenVar": 40
   },
   "kernels_config": {
    "python": {
     "delete_cmd_postfix": "",
     "delete_cmd_prefix": "del ",
     "library": "var_list.py",
     "varRefreshCmd": "print(var_dic_list())"
    },
    "r": {
     "delete_cmd_postfix": ") ",
     "delete_cmd_prefix": "rm(",
     "library": "var_list.r",
     "varRefreshCmd": "cat(var_dic_list()) "
    }
   },
   "types_to_exclude": [
    "module",
    "function",
    "builtin_function_or_method",
    "instance",
    "_Feature"
   ],
   "window_display": false
  },
  "vscode": {
   "interpreter": {
    "hash": "31f2aee4e71d21fbe5cf8b01ff0e069b9275f58929596ceb00d14d90e3e16cd6"
   }
  }
 },
 "nbformat": 4,
 "nbformat_minor": 5
}
