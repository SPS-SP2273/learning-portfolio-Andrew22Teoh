{
 "cells": [
  {
   "cell_type": "markdown",
   "id": "123456",
   "metadata": {},
   "source": [
    "<div style=\"text-align:left;font-size:2em\"><span style=\"font-weight:bolder;font-size:1.25em\">SP2273 | Learning Portfolio</span><br><br><span style=\"font-weight:bold;color:darkred\">Using Jupyter (Need)</span></div>"
   ]
  },
  {
   "cell_type": "markdown",
   "id": "7d513fcd",
   "metadata": {},
   "source": [
    "## 1 Getting started with Jupyter"
   ]
  },
  {
   "cell_type": "markdown",
   "id": "3ff2ef46",
   "metadata": {},
   "source": [
    "### 1.1 Its all about running cells"
   ]
  },
  {
   "cell_type": "code",
   "execution_count": 1,
   "id": "7cef295d",
   "metadata": {},
   "outputs": [
    {
     "name": "stdout",
     "output_type": "stream",
     "text": [
      "john is lame\n"
     ]
    }
   ],
   "source": [
    "john = \"lame\"\n",
    "identity = \"is\"\n",
    "name = \"john\"\n",
    "print (name, identity, john)\n"
   ]
  },
  {
   "cell_type": "markdown",
   "id": "3800f7aa",
   "metadata": {},
   "source": [
    "### 1.2 A traditional start"
   ]
  },
  {
   "cell_type": "code",
   "execution_count": 2,
   "id": "23267bba",
   "metadata": {},
   "outputs": [
    {
     "name": "stdout",
     "output_type": "stream",
     "text": [
      "Hello World\n"
     ]
    }
   ],
   "source": [
    "\n",
    "print (\"Hello World\")\n",
    "\n"
   ]
  },
  {
   "cell_type": "markdown",
   "id": "b77220e7",
   "metadata": {},
   "source": [
    "## 2 All about Markdown"
   ]
  },
  {
   "cell_type": "markdown",
   "id": "b5a17481",
   "metadata": {},
   "source": [
    "### 2.1 Rendering Markdown cells"
   ]
  },
  {
   "cell_type": "markdown",
   "id": "61f69499",
   "metadata": {},
   "source": [
    "The ship hung in the sky the same way that bricks **don't**.\n"
   ]
  },
  {
   "cell_type": "markdown",
   "id": "52dd9520",
   "metadata": {},
   "source": [
    "### 2.2 Some basic syntax"
   ]
  },
  {
   "cell_type": "markdown",
   "id": "6030e6de",
   "metadata": {},
   "source": [
    "\n",
    "The ships *hung in the sky* the same way that **bricks don't**<sup>1</sup>.<sub>QUOTE</sub>"
   ]
  },
  {
   "cell_type": "markdown",
   "id": "eafb1ca9",
   "metadata": {},
   "source": [
    "### 2.3 Headings"
   ]
  },
  {
   "cell_type": "markdown",
   "id": "c8902352",
   "metadata": {},
   "source": [
    "# Hey\n",
    "\n",
    "## Heyo\n",
    "\n",
    "### 3\n",
    "\n",
    "#### 4\n",
    "\n",
    "##### 5\n",
    "\n",
    "###### 6\n",
    "\n",
    "7"
   ]
  },
  {
   "cell_type": "markdown",
   "id": "9a98480e",
   "metadata": {},
   "source": [
    "### 2.4 Displaying Code"
   ]
  },
  {
   "cell_type": "markdown",
   "id": "56f5f83b",
   "metadata": {},
   "source": [
    "```python\n",
    "print (\"Hello World!\")\n",
    "```"
   ]
  },
  {
   "cell_type": "markdown",
   "id": "2290ee7d",
   "metadata": {},
   "source": [
    "\n",
    "# Your code here\n"
   ]
  },
  {
   "cell_type": "markdown",
   "id": "c3d2807d",
   "metadata": {},
   "source": [
    "### 2.5 Links"
   ]
  },
  {
   "cell_type": "markdown",
   "id": "8b483716",
   "metadata": {},
   "source": [
    "[iMovies](http://youtube.com)"
   ]
  },
  {
   "cell_type": "markdown",
   "id": "ed24b255",
   "metadata": {},
   "source": [
    "### 2.6 Images"
   ]
  },
  {
   "cell_type": "markdown",
   "id": "2d069848",
   "metadata": {},
   "source": [
    "![yeet](https://cdn.spacetelescope.org/archives/images/thumb700x/heic0611b.jpg)\n",
    "\n",
    "![](data:image/jpeg;base64,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)\n",
    "\n",
    "\n"
   ]
  },
  {
   "cell_type": "markdown",
   "id": "4a59f892",
   "metadata": {},
   "source": [
    "### 2.7 Tables"
   ]
  },
  {
   "cell_type": "markdown",
   "id": "28924a19",
   "metadata": {},
   "source": [
    "| A | B|  Boo| Arr |\n",
    "|:--|:--:|:--:|--:|\n",
    "|anteater|bronchosaurus|oocyte|john cook|\n",
    "|test|hey|yes|no|"
   ]
  },
  {
   "cell_type": "markdown",
   "id": "5b2638f5",
   "metadata": {},
   "source": [
    "### 2.8 Lists"
   ]
  },
  {
   "cell_type": "markdown",
   "id": "da1a75b9",
   "metadata": {},
   "source": [
    "Best Foods\n",
    "1. Grass\n",
    "1. Trees\n",
    "2. Bowsers\n",
    "1. None\n",
    "\n",
    "Crowds\n",
    "- Tall\n",
    "- Nil\n",
    "- Purple\n",
    "- Cloudy\n",
    "\n",
    "Worst Foods\n",
    "1. anteaters\n",
    "    1. angels\n",
    "    4. flight\n",
    "    - doves\n",
    "    -freaks \n",
    "Movies:\n",
    "- knives out\n",
    "    1. bullet train\n",
    "        - brad pitt\n",
    "    2. sweet home\n",
    "        1. alabama\n",
    "    3. frankenstein\n",
    "    \n",
    "    \n",
    "    1. brave new world\n",
    "- hippocampus\n",
    "    1. test"
   ]
  },
  {
   "cell_type": "markdown",
   "id": "a77eb533",
   "metadata": {},
   "source": [
    "### 2.9 Equations"
   ]
  },
  {
   "cell_type": "markdown",
   "id": "4c20b590",
   "metadata": {},
   "source": [
    "\n",
    "$\\alpha = -\\gamma^{\\beta*\\dfrac/{\\lambda}{\\pi}}$\n"
   ]
  },
  {
   "cell_type": "markdown",
   "id": "1cfd1ae1",
   "metadata": {},
   "source": [
    "## Exercise 1 :  Put it in Markdown"
   ]
  },
  {
   "cell_type": "markdown",
   "id": "d11a52b8",
   "metadata": {},
   "source": [
    "**Quadratic Equations**\n",
    "\n",
    "![](https://upload.wikimedia.org/wikipedia/commons/thumb/f/f8/Polynomialdeg2.svg/300px-Polynomialdeg2.svg.png)\n",
    "*(Image from the [Wikipedia page on Quadratic equations](https://en.wikipedia.org/wiki/Quadratic_equation))*\n",
    "\n",
    "**Introduction**\n",
    "\n",
    "The general form of a quadratic equation is:\n",
    "\n",
    "$$ax^2 + bx + c = 0$$\n",
    "\n",
    "\n",
    "**Solutions** Provided $a \\ne 0$, we can use an elementary algebraic method called [completing the square](https://en.wikipedia.org/wiki/Completing_the_square) to show that a quadratic equation has the following solution:\n",
    "\n",
    "$$x = \\dfrac{-b\\pm\\sqrt{b^2-4ac}}{2a}$$\n",
    "\n",
    "\n",
    "**Discriminant**\n",
    "\n",
    "The quantity $\\Delta = b^2 - 4ac$ is called the **discriminant** of the equation and decides the nature of its solutions. The table below shows the various possibilities.\n",
    "\n",
    "|Discriminant|Roots|\n",
    "|:--:|:--|\n",
    "|$$\\Delta = b^2 - 4ac = 0$$| A single solution of  $-b/(2a)$|\n",
    "|$$\\Delta = b^2 - 4ac > 0$$| Two distinct solutions|\n",
    "|$$\\Delta = b^2 - 4ac < 0$$| No real solutions; both are complex|"
   ]
  },
  {
   "cell_type": "markdown",
   "id": "d24f54f8",
   "metadata": {},
   "source": [
    "## Exercise 2 :  In your own words"
   ]
  },
  {
   "cell_type": "markdown",
   "id": "6318f711",
   "metadata": {},
   "source": [
    "1. What is a **repository**?\n",
    "\n",
    "- Answer: A repository is a location on a server (local or remote) that stores files to be accessed by a user.\n",
    "\n",
    "2. Git keeps track of changes in the files in our repository.\n",
    "\n",
    "\n",
    "3. What is a **commit**?\n",
    "\n",
    "- Answer: A commit is a change to a file within a local repository that is being saved and updated within the same scope.\n",
    "\n",
    "4. What is a **push**?\n",
    "\n",
    "- Answer: A push is using a local repository to update a remote repository. Files that are locally saved, and any chosen changes from the local machine will be uploaded and updated on the virtual repository.\n",
    "\n",
    "5. What is the difference between **GitHub** and **GitHub Desktop**?\n",
    "\n",
    "- GitHub Desktop is a desktop application executable that opens a program which is able to access the GitHub servers to update the repository.\n",
    "\n",
    "6. Is there an 'opposite' to a **push**?\n",
    "\n",
    "- Downloading files from a remote repository and updating or overriding the local machine files with them. This is a **fetch** or a **pull**. Specifically, a pull is a mix of fetch and merge. You can look at google for more specifics on the details and mechanisms of these two commands."
   ]
  }
 ],
 "metadata": {
  "kernelspec": {
   "display_name": "Python 3 (ipykernel)",
   "language": "python",
   "name": "python3"
  },
  "language_info": {
   "codemirror_mode": {
    "name": "ipython",
    "version": 3
   },
   "file_extension": ".py",
   "mimetype": "text/x-python",
   "name": "python",
   "nbconvert_exporter": "python",
   "pygments_lexer": "ipython3",
   "version": "3.9.13"
  },
  "toc": {
   "base_numbering": 1,
   "nav_menu": {},
   "number_sections": true,
   "sideBar": true,
   "skip_h1_title": false,
   "title_cell": "Table of Contents",
   "title_sidebar": "Contents",
   "toc_cell": false,
   "toc_position": {},
   "toc_section_display": true,
   "toc_window_display": false
  },
  "vscode": {
   "interpreter": {
    "hash": "31f2aee4e71d21fbe5cf8b01ff0e069b9275f58929596ceb00d14d90e3e16cd6"
   }
  }
 },
 "nbformat": 4,
 "nbformat_minor": 5
}
