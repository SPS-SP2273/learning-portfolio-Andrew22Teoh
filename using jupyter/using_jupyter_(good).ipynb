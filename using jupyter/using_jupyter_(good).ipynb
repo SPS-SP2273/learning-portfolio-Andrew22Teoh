{
 "cells": [
  {
   "cell_type": "markdown",
   "id": "123456",
   "metadata": {},
   "source": [
    "<div style=\"text-align:left;font-size:2em\"><span style=\"font-weight:bolder;font-size:1.25em\">SP2273 | Learning Portfolio</span><br><br><span style=\"font-weight:bold;color:darkred\">Using Jupyter (Good)</span></div>"
   ]
  },
  {
   "cell_type": "markdown",
   "id": "405b2862",
   "metadata": {},
   "source": [
    "## 1 Some tips and tricks"
   ]
  },
  {
   "cell_type": "markdown",
   "id": "94290aff",
   "metadata": {},
   "source": [
    "### 1.1 Keyboard Shortcuts"
   ]
  },
  {
   "cell_type": "markdown",
   "id": "56a1593c",
   "metadata": {},
   "source": [
    "You can use Esc to enter command mode (leave the individual cells). Pressing Enter brings you back into a specific cell, entering edit mode. While in command mode, you can navigate throughout the different cells with arrows, and change the cell to python with **Y** or change the cell to markdown with **M**. Pressing **H** while in command mode will bring up a list of all the shortcuts available!"
   ]
  },
  {
   "cell_type": "markdown",
   "id": "bd0d519e",
   "metadata": {},
   "source": [
    "### 1.2 Shell commands"
   ]
  },
  {
   "cell_type": "code",
   "execution_count": 1,
   "id": "3c864862",
   "metadata": {},
   "outputs": [
    {
     "name": "stdout",
     "output_type": "stream",
     "text": [
      "C:\\Users\\teohp\\Desktop\\Personal Information\\Undergraduate\\University Academics\\Y1S2\\SP2273\\learning-portfolio-Andrew22Teoh\\using jupyter\n",
      " Volume in drive C is Windows\n",
      " Volume Serial Number is 6098-C80E\n",
      "\n",
      " Directory of C:\\Users\\teohp\\Desktop\\Personal Information\\Undergraduate\\University Academics\\Y1S2\\SP2273\\learning-portfolio-Andrew22Teoh\\using jupyter\n",
      "\n",
      "27/01/2023  08:15 am    <DIR>          .\n",
      "27/01/2023  08:15 am    <DIR>          ..\n",
      "26/01/2023  05:17 pm    <DIR>          .ipynb_checkpoints\n",
      "27/01/2023  08:15 am             5,792 using_jupyter_(good).ipynb\n",
      "13/01/2023  10:35 am            13,078 using_jupyter_(need).ipynb\n",
      "               2 File(s)         18,870 bytes\n",
      "               3 Dir(s)  296,415,801,344 bytes free\n"
     ]
    }
   ],
   "source": [
    "!cd\n",
    "!dir\n",
    "\n"
   ]
  },
  {
   "cell_type": "markdown",
   "id": "702903a7",
   "metadata": {},
   "source": [
    "## 2 Jupyter Extensions"
   ]
  },
  {
   "cell_type": "markdown",
   "id": "b0269b86",
   "metadata": {},
   "source": [
    "### 2.1 Installing the extensions"
   ]
  },
  {
   "cell_type": "code",
   "execution_count": null,
   "id": "460f565b",
   "metadata": {},
   "outputs": [],
   "source": [
    "!conda install -c conda-forge jupyter_contrib_nbextensions"
   ]
  },
  {
   "cell_type": "markdown",
   "id": "cd5554b4",
   "metadata": {},
   "source": [
    "### 2.2 Enabling the extensions"
   ]
  },
  {
   "cell_type": "code",
   "execution_count": null,
   "id": "f7e8507c",
   "metadata": {},
   "outputs": [],
   "source": [
    "x = 10"
   ]
  },
  {
   "cell_type": "markdown",
   "id": "4a88d04f",
   "metadata": {},
   "source": [
    "## 3 Shell Magic"
   ]
  },
  {
   "cell_type": "code",
   "execution_count": null,
   "id": "37b626fb",
   "metadata": {},
   "outputs": [],
   "source": [
    "%timeit x=10"
   ]
  },
  {
   "cell_type": "code",
   "execution_count": null,
   "id": "1049d420",
   "metadata": {},
   "outputs": [],
   "source": [
    "%%timeit\n",
    "\n",
    "for i in range(500):\n",
    "    i +=1\n"
   ]
  },
  {
   "cell_type": "code",
   "execution_count": null,
   "id": "409ae3fa",
   "metadata": {},
   "outputs": [],
   "source": [
    "%lsmagic"
   ]
  },
  {
   "cell_type": "markdown",
   "id": "895aa0b1",
   "metadata": {},
   "source": [
    "## 4 The Kernel"
   ]
  },
  {
   "cell_type": "markdown",
   "id": "59ae13d5",
   "metadata": {},
   "source": [
    "Cool, done. :)"
   ]
  },
  {
   "cell_type": "markdown",
   "id": "ccdfa1c4",
   "metadata": {},
   "source": [
    "## Exercise 1 :  A new shortcut"
   ]
  },
  {
   "cell_type": "markdown",
   "id": "d31dcdbf",
   "metadata": {
    "scrolled": false
   },
   "source": [
    "sick, shortcuts have been added \\o/"
   ]
  }
 ],
 "metadata": {
  "kernelspec": {
   "display_name": "Python 3 (ipykernel)",
   "language": "python",
   "name": "python3"
  },
  "language_info": {
   "codemirror_mode": {
    "name": "ipython",
    "version": 3
   },
   "file_extension": ".py",
   "mimetype": "text/x-python",
   "name": "python",
   "nbconvert_exporter": "python",
   "pygments_lexer": "ipython3",
   "version": "3.9.13"
  },
  "toc": {
   "base_numbering": 1,
   "nav_menu": {},
   "number_sections": true,
   "sideBar": true,
   "skip_h1_title": false,
   "title_cell": "Table of Contents",
   "title_sidebar": "Contents",
   "toc_cell": false,
   "toc_position": {},
   "toc_section_display": true,
   "toc_window_display": false
  },
  "varInspector": {
   "cols": {
    "lenName": 16,
    "lenType": 16,
    "lenVar": 40
   },
   "kernels_config": {
    "python": {
     "delete_cmd_postfix": "",
     "delete_cmd_prefix": "del ",
     "library": "var_list.py",
     "varRefreshCmd": "print(var_dic_list())"
    },
    "r": {
     "delete_cmd_postfix": ") ",
     "delete_cmd_prefix": "rm(",
     "library": "var_list.r",
     "varRefreshCmd": "cat(var_dic_list()) "
    }
   },
   "types_to_exclude": [
    "module",
    "function",
    "builtin_function_or_method",
    "instance",
    "_Feature"
   ],
   "window_display": false
  },
  "vscode": {
   "interpreter": {
    "hash": "31f2aee4e71d21fbe5cf8b01ff0e069b9275f58929596ceb00d14d90e3e16cd6"
   }
  }
 },
 "nbformat": 4,
 "nbformat_minor": 5
}
