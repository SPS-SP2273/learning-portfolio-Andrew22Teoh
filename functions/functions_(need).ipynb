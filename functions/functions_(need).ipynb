{
 "cells": [
  {
   "cell_type": "markdown",
   "id": "123456",
   "metadata": {},
   "source": [
    "<div style=\"text-align:left;font-size:2em\"><span style=\"font-weight:bolder;font-size:1.25em\">SP2273 | Learning Portfolio</span><br><br><span style=\"font-weight:bold;color:darkred\">Functions (Need)</span></div>"
   ]
  },
  {
   "cell_type": "markdown",
   "id": "87293cc7",
   "metadata": {},
   "source": [
    "## 1 User defined functions"
   ]
  },
  {
   "cell_type": "markdown",
   "id": "d2003d45",
   "metadata": {},
   "source": [
    "### 1.1 Named functions that return"
   ]
  },
  {
   "cell_type": "code",
   "execution_count": 5,
   "id": "725288e3",
   "metadata": {},
   "outputs": [
    {
     "name": "stdout",
     "output_type": "stream",
     "text": [
      "My name is potateh\n",
      "Good day, potateh!\n"
     ]
    }
   ],
   "source": [
    "def greet(name):\n",
    "    if name.lower() == \"SPIDERMAN\":\n",
    "        return(f'Oh my goddddd you\\'re so amazingggg')\n",
    "    else:\n",
    "        return(f'Good day, {name}!')\n",
    "\n",
    "print(greet(input(\"My name is \")))"
   ]
  },
  {
   "cell_type": "code",
   "execution_count": 6,
   "id": "bdc56ea5",
   "metadata": {},
   "outputs": [
    {
     "data": {
      "text/plain": [
       "(-55, 67, 6.933333333333334)"
      ]
     },
     "execution_count": 6,
     "metadata": {},
     "output_type": "execute_result"
    }
   ],
   "source": [
    "def basic_stats(numbers):\n",
    "    np_numbers=np.array(numbers)\n",
    "    return np_numbers.min(), np_numbers.max(), np_numbers.mean()\n",
    "basic_stats([1,2,3,4,5,6,7,8,9,10,-55,67,32,4,1])"
   ]
  },
  {
   "cell_type": "markdown",
   "id": "919277f2",
   "metadata": {},
   "source": [
    "### 1.2 Named functions that don’t return"
   ]
  },
  {
   "cell_type": "code",
   "execution_count": 4,
   "id": "e86f53bd",
   "metadata": {},
   "outputs": [
    {
     "name": "stdout",
     "output_type": "stream",
     "text": [
      "This is a terrible morning\n",
      "The next line is the output of this print function\n",
      "None\n"
     ]
    }
   ],
   "source": [
    "print(\"This is a terrible morning\")\n",
    "print(print(\"The next line is the output of this print function\"))"
   ]
  },
  {
   "cell_type": "markdown",
   "id": "7b3358a7",
   "metadata": {},
   "source": [
    "### 1.3 Anonymous functions"
   ]
  },
  {
   "cell_type": "code",
   "execution_count": 10,
   "id": "7905f40d",
   "metadata": {},
   "outputs": [
    {
     "name": "stdout",
     "output_type": "stream",
     "text": [
      "2920361615104\n",
      "2920383382208\n",
      "[[0, 9, 19], [1, 8, 18], [2, 7, 17], [3, 6, 16], [4, 5, 15], [5, 4, 14], [6, 3, 13], [7, 2, 12], [8, 1, 11], [9, 0, 10]]\n",
      "2920361615104\n",
      "[[0, 9, 19], [1, 8, 18], [2, 7, 17], [3, 6, 16], [4, 5, 15], [5, 4, 14], [6, 3, 13], [7, 2, 12], [8, 1, 11], [9, 0, 10]]\n"
     ]
    }
   ],
   "source": [
    "numbers=[[9, 0, 10],\n",
    "         [8, 1, 11],\n",
    "         [7, 2, 12],\n",
    "         [6, 3, 13],\n",
    "         [5, 4, 14],\n",
    "         [4, 5, 15],\n",
    "         [3, 6, 16],\n",
    "         [2, 7, 17],\n",
    "         [1, 8, 18],\n",
    "         [0, 9, 19]]\n",
    "print(id(numbers))\n",
    "print(id(sorted(numbers)))\n",
    "print(sorted(numbers))\n",
    "# this is different from numbers.sort(), which changes the list in place.\n",
    "# sorted(numbers) returns a new list\n",
    "numbers.sort()\n",
    "print(id(numbers))\n",
    "print(numbers)"
   ]
  },
  {
   "cell_type": "code",
   "execution_count": 16,
   "id": "2cc922c8",
   "metadata": {},
   "outputs": [
    {
     "name": "stdout",
     "output_type": "stream",
     "text": [
      "Base list is \n",
      "[[0, 9, 19], [1, 0, 25], [1, 8, 18], [2, 7, 17], [3, 6, 16], [4, 5, 15], [5, 4, 14], [6, 3, 13], [7, 2, 12], [8, 1, 11]]\n",
      "Sorted by ascending second item: \n",
      "[[1, 0, 25], [8, 1, 11], [7, 2, 12], [6, 3, 13], [5, 4, 14], [4, 5, 15], [3, 6, 16], [2, 7, 17], [1, 8, 18], [0, 9, 19]]\n",
      "Sorted by ascending sum: \n",
      "[[8, 1, 11], [7, 2, 12], [6, 3, 13], [5, 4, 14], [4, 5, 15], [3, 6, 16], [1, 0, 25], [2, 7, 17], [1, 8, 18], [0, 9, 19]]\n",
      "Sorted by descending sum of squares : \n",
      "[[1, 0, 25], [0, 9, 19], [1, 8, 18], [2, 7, 17], [3, 6, 16], [4, 5, 15], [5, 4, 14], [6, 3, 13], [7, 2, 12], [8, 1, 11]]\n"
     ]
    }
   ],
   "source": [
    "numbers=[[1, 0, 25],\n",
    "         [8, 1, 11],\n",
    "         [7, 2, 12],\n",
    "         [6, 3, 13],\n",
    "         [5, 4, 14],\n",
    "         [4, 5, 15],\n",
    "         [3, 6, 16],\n",
    "         [2, 7, 17],\n",
    "         [1, 8, 18],\n",
    "         [0, 9, 19]]\n",
    "print(f'Base list is \\n{sorted(numbers)}')\n",
    "print(f'Sorted by ascending second item: \\n{sorted(numbers, key=lambda x: x[1])}')\n",
    "print(f'Sorted by ascending sum: \\n{sorted(numbers, key = lambda x: sum(x))}')\n",
    "print(f'Sorted by descending sum of squares : \\n{sorted(numbers, key = lambda x: x[0]**2 + x[1]**2 + x[2]**2, reverse = True)}')"
   ]
  },
  {
   "cell_type": "markdown",
   "id": "dfced28d",
   "metadata": {},
   "source": [
    "### 1.4 Optional arguments"
   ]
  },
  {
   "cell_type": "code",
   "execution_count": 23,
   "id": "587ce6a4",
   "metadata": {},
   "outputs": [
    {
     "name": "stdout",
     "output_type": "stream",
     "text": [
      "6\n",
      "14\n"
     ]
    }
   ],
   "source": [
    "def sum(a,b,c,square = False):\n",
    "    if square == True:\n",
    "        a = a**2\n",
    "        b = b**2\n",
    "        c = c**2\n",
    "    return a + b + c\n",
    "\n",
    "print(sum(1,2,3, False))\n",
    "print(sum(1,2,3, True))"
   ]
  },
  {
   "cell_type": "code",
   "execution_count": 26,
   "id": "ff9bc855",
   "metadata": {},
   "outputs": [
    {
     "name": "stdout",
     "output_type": "stream",
     "text": [
      "1 2 3 4 5\n",
      "1 and 2 and 3 and 4 and 5\n"
     ]
    }
   ],
   "source": [
    "print(1,2,3,4,5)\n",
    "print(1,2,3,4,5, sep = \" and \")"
   ]
  },
  {
   "cell_type": "markdown",
   "id": "21c83a8a",
   "metadata": {},
   "source": [
    "## 2 The importance of functions?"
   ]
  },
  {
   "cell_type": "markdown",
   "id": "7211c147",
   "metadata": {},
   "source": [
    "### 2.1 An argument for functions"
   ]
  },
  {
   "cell_type": "markdown",
   "id": "6b4131fe",
   "metadata": {},
   "source": [
    "A guinea pig engine would be pretty cool tbh they should invent that"
   ]
  },
  {
   "cell_type": "markdown",
   "id": "77dbd341",
   "metadata": {},
   "source": [
    "### 2.2 A word of caution"
   ]
  },
  {
   "cell_type": "markdown",
   "id": "15227854",
   "metadata": {},
   "source": [
    "With great function power comes great function responsibility"
   ]
  },
  {
   "cell_type": "markdown",
   "id": "bfbc7815",
   "metadata": {},
   "source": [
    "## Exercise 1 :  Do you know why?"
   ]
  },
  {
   "cell_type": "code",
   "execution_count": 31,
   "id": "8ba23e2e",
   "metadata": {},
   "outputs": [
    {
     "name": "stdout",
     "output_type": "stream",
     "text": [
      "Hello Batman! How is the family doing?\n",
      "Hello Frankenstein!\n"
     ]
    }
   ],
   "source": [
    "def greeting(name):\n",
    "    if name == \"Batman\":\n",
    "        return \"Hello Batman! How is the family doing?\"\n",
    "    return f'Hello {name}!'\n",
    "\n",
    "print(greeting(\"Batman\"))\n",
    "print(greeting(\"Frankenstein\"))"
   ]
  },
  {
   "cell_type": "markdown",
   "id": "3d9895fa",
   "metadata": {},
   "source": [
    "The function above works without an else statement for the if conditional, firstly because the else conditional is optional for if functions. In the case that name == \"Batman\", the block of code inside the if conditional is executed, followed by moving on to the next line to execute that code. \n",
    "However, in this case that doesn't happen. This is because the return inside the if conditional results in the end of the function, since the function already outputs this string and has no need to continue running more lines in the function.\n",
    "In the alternative case where name != \"Batman\", the block of code checks name against the conditional, and returns False. As a result, the block of code inside the if conditional is not executed and the function goes on to execute the next line (which is the return function that catches everything that doesn't fulfill the above conditional."
   ]
  },
  {
   "cell_type": "markdown",
   "id": "db49570d",
   "metadata": {},
   "source": [
    "## Exercise 2 :  Calculator functions"
   ]
  },
  {
   "cell_type": "code",
   "execution_count": 14,
   "id": "1640f429",
   "metadata": {},
   "outputs": [
    {
     "name": "stdout",
     "output_type": "stream",
     "text": [
      "[100 100 100 100 100   3   3   3   3   0   2   4   6]\n",
      "[-28 -32 -12  52 -46  -3  -1   1   3   0   0   0   0]\n",
      "[2304 2244 2464 1824 1971    0    2    2    0    0    1    4    9]\n",
      "Can't be done, will result in division by zero :(\n"
     ]
    }
   ],
   "source": [
    "import numpy as np\n",
    "\n",
    "def add(x,y):\n",
    "    return x+y\n",
    "\n",
    "def subtract(x,y):\n",
    "    return x-y\n",
    "\n",
    "def multiply(x,y):\n",
    "    return x*y\n",
    "\n",
    "def divide(x,y):\n",
    "    if np.any(y == 0): \n",
    "        return \"Can't be done, will result in division by zero :(\"\n",
    "    return x/y\n",
    "    \n",
    "x=np.array([36, 34, 44, 76, 27,0,1,2,3,0,1,2,3])\n",
    "y=np.array([64, 66, 56, 24, 73,3,2,1,0,0,1,2,3])\n",
    "\n",
    "print(add(x,y))\n",
    "print(subtract(x,y))\n",
    "print(multiply(x,y))\n",
    "print(divide(x,y))"
   ]
  },
  {
   "cell_type": "markdown",
   "id": "ed429959",
   "metadata": {},
   "source": [
    "## Exercise 3 :  max_info() with NumPy"
   ]
  },
  {
   "cell_type": "code",
   "execution_count": 5,
   "id": "40e1e73d",
   "metadata": {},
   "outputs": [
    {
     "name": "stdout",
     "output_type": "stream",
     "text": [
      "The maximum number in your list is 83 at index 2, which means that it is item 3 for normal human counters.\n"
     ]
    }
   ],
   "source": [
    "import numpy as np\n",
    "def max_info(numbers):\n",
    "    np_num = np.array(numbers)\n",
    "    return f'The maximum number in your list is {np.amax(np_num)} at index {np.argmax(np_num)}, which means that it is item {np.argmax(np_num)+1} for normal human counters.'\n",
    "\n",
    "numbers = [40, 27, 83, 44, 74, 51, 76, 77, 10, 49]\n",
    "print(max_info(numbers))"
   ]
  }
 ],
 "metadata": {
  "kernelspec": {
   "display_name": "Python 3 (ipykernel)",
   "language": "python",
   "name": "python3"
  },
  "language_info": {
   "codemirror_mode": {
    "name": "ipython",
    "version": 3
   },
   "file_extension": ".py",
   "mimetype": "text/x-python",
   "name": "python",
   "nbconvert_exporter": "python",
   "pygments_lexer": "ipython3",
   "version": "3.9.13"
  },
  "toc": {
   "base_numbering": 1,
   "nav_menu": {},
   "number_sections": true,
   "sideBar": true,
   "skip_h1_title": false,
   "title_cell": "Table of Contents",
   "title_sidebar": "Contents",
   "toc_cell": false,
   "toc_position": {},
   "toc_section_display": true,
   "toc_window_display": false
  },
  "varInspector": {
   "cols": {
    "lenName": 16,
    "lenType": 16,
    "lenVar": 40
   },
   "kernels_config": {
    "python": {
     "delete_cmd_postfix": "",
     "delete_cmd_prefix": "del ",
     "library": "var_list.py",
     "varRefreshCmd": "print(var_dic_list())"
    },
    "r": {
     "delete_cmd_postfix": ") ",
     "delete_cmd_prefix": "rm(",
     "library": "var_list.r",
     "varRefreshCmd": "cat(var_dic_list()) "
    }
   },
   "types_to_exclude": [
    "module",
    "function",
    "builtin_function_or_method",
    "instance",
    "_Feature"
   ],
   "window_display": false
  },
  "vscode": {
   "interpreter": {
    "hash": "31f2aee4e71d21fbe5cf8b01ff0e069b9275f58929596ceb00d14d90e3e16cd6"
   }
  }
 },
 "nbformat": 4,
 "nbformat_minor": 5
}
