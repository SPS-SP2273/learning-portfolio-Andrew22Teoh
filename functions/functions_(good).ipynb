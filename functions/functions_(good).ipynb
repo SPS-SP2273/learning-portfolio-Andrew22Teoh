{
 "cells": [
  {
   "cell_type": "markdown",
   "id": "123456",
   "metadata": {},
   "source": [
    "<div style=\"text-align:left;font-size:2em\"><span style=\"font-weight:bolder;font-size:1.25em\">SP2273 | Learning Portfolio</span><br><br><span style=\"font-weight:bold;color:darkred\">Functions (Good)</span></div>"
   ]
  },
  {
   "cell_type": "markdown",
   "id": "3503ab36",
   "metadata": {},
   "source": [
    "## 1 Check, balances and contingencies"
   ]
  },
  {
   "cell_type": "markdown",
   "id": "1a1e6669",
   "metadata": {},
   "source": [
    "### 1.1 assert"
   ]
  },
  {
   "cell_type": "code",
   "execution_count": 1,
   "id": "ce97f958",
   "metadata": {},
   "outputs": [
    {
     "name": "stdout",
     "output_type": "stream",
     "text": [
      "10\n",
      "9\n",
      "8\n",
      "7\n",
      "6\n",
      "5\n",
      "4\n",
      "3\n",
      "2\n",
      "1\n",
      "0\n",
      "-1\n",
      "-2\n",
      "-3\n",
      "-4\n",
      "-5\n"
     ]
    },
    {
     "ename": "AssertionError",
     "evalue": "You're gonna get into an infinite loop!",
     "output_type": "error",
     "traceback": [
      "\u001b[1;31m---------------------------------------------------------------------------\u001b[0m",
      "\u001b[1;31mAssertionError\u001b[0m                            Traceback (most recent call last)",
      "\u001b[1;32m~\\AppData\\Local\\Temp\\ipykernel_19344\\3231855250.py\u001b[0m in \u001b[0;36m<module>\u001b[1;34m\u001b[0m\n\u001b[0;32m      1\u001b[0m \u001b[0mcounter\u001b[0m \u001b[1;33m=\u001b[0m \u001b[1;36m10\u001b[0m\u001b[1;33m\u001b[0m\u001b[1;33m\u001b[0m\u001b[0m\n\u001b[0;32m      2\u001b[0m \u001b[1;32mwhile\u001b[0m \u001b[1;32mTrue\u001b[0m\u001b[1;33m:\u001b[0m\u001b[1;33m\u001b[0m\u001b[1;33m\u001b[0m\u001b[0m\n\u001b[1;32m----> 3\u001b[1;33m     \u001b[1;32massert\u001b[0m \u001b[0mcounter\u001b[0m \u001b[1;33m>=\u001b[0m\u001b[1;33m-\u001b[0m\u001b[1;36m5\u001b[0m\u001b[1;33m,\u001b[0m \u001b[1;34m\"You're gonna get into an infinite loop!\"\u001b[0m\u001b[1;33m\u001b[0m\u001b[1;33m\u001b[0m\u001b[0m\n\u001b[0m\u001b[0;32m      4\u001b[0m     \u001b[0mprint\u001b[0m\u001b[1;33m(\u001b[0m\u001b[0mcounter\u001b[0m\u001b[1;33m)\u001b[0m\u001b[1;33m\u001b[0m\u001b[1;33m\u001b[0m\u001b[0m\n\u001b[0;32m      5\u001b[0m     \u001b[0mcounter\u001b[0m \u001b[1;33m-=\u001b[0m \u001b[1;36m1\u001b[0m\u001b[1;33m\u001b[0m\u001b[1;33m\u001b[0m\u001b[0m\n",
      "\u001b[1;31mAssertionError\u001b[0m: You're gonna get into an infinite loop!"
     ]
    }
   ],
   "source": [
    "counter = 10\n",
    "while True:\n",
    "    assert counter >=-5, \"You're gonna get into an infinite loop!\"\n",
    "    print(counter)\n",
    "    counter -= 1\n"
   ]
  },
  {
   "cell_type": "markdown",
   "id": "c47696b0",
   "metadata": {},
   "source": [
    "### 1.2 try-except"
   ]
  },
  {
   "cell_type": "code",
   "execution_count": 9,
   "id": "2c6f9a9b",
   "metadata": {},
   "outputs": [
    {
     "name": "stdout",
     "output_type": "stream",
     "text": [
      "Good morning! Today we will be summing up 3 numbers that you give me!\n",
      "Please enter the first number: 0.0\n",
      "Please enter the second number: 0.0.0.032\n",
      "Please enter the third number: 3423.234.432\n",
      "I can only work with numbers! :'(\n"
     ]
    }
   ],
   "source": [
    "import sys\n",
    "def sum_of_3_numbers():\n",
    "    print(\"Good morning! Today we will be summing up 3 numbers that you give me!\")\n",
    "    a = input(\"Please enter the first number: \")\n",
    "    b = input(\"Please enter the second number: \")\n",
    "    c = input(\"Please enter the third number: \")\n",
    "    try:\n",
    "        a,b,c = float(a),float(b),float(c)\n",
    "        print(float(a+b+c))\n",
    "    except ValueError:\n",
    "        print(\"I can only work with numbers! :'(\")\n",
    "\n",
    "    \n",
    "sum_of_3_numbers()"
   ]
  },
  {
   "cell_type": "markdown",
   "id": "18f9b24e",
   "metadata": {},
   "source": [
    "## 2 Some loose ends"
   ]
  },
  {
   "cell_type": "markdown",
   "id": "e82413d4",
   "metadata": {},
   "source": [
    "### 2.1 Positional, keyword and default arguments"
   ]
  },
  {
   "cell_type": "code",
   "execution_count": 28,
   "id": "a8eff264",
   "metadata": {},
   "outputs": [
    {
     "ename": "SyntaxError",
     "evalue": "positional argument follows keyword argument (3321744630.py, line 7)",
     "output_type": "error",
     "traceback": [
      "\u001b[1;36m  File \u001b[1;32m\"C:\\Users\\teohp\\AppData\\Local\\Temp\\ipykernel_19344\\3321744630.py\"\u001b[1;36m, line \u001b[1;32m7\u001b[0m\n\u001b[1;33m    print(state_possessions(number = 0, \"John Wick\", \"dog\"))                                   #positional argument following a keyword argument results in an error\u001b[0m\n\u001b[1;37m                                                          ^\u001b[0m\n\u001b[1;31mSyntaxError\u001b[0m\u001b[1;31m:\u001b[0m positional argument follows keyword argument\n"
     ]
    }
   ],
   "source": [
    "def state_possessions(name = \"Nobody\", possession = \"nothing\", number = 0):\n",
    "    return f'I am {name}, and I have {number} {possession+\"s\"}'\n",
    "print(state_possessions(\"Riz\", \"apple\", 5))                                                #all positional\n",
    "print(state_possessions(number = 20, name = \"Tony Stark\", possession = \"Iron Man suit\"))   #all keyword\n",
    "print(state_possessions())                                                                 #all default\n",
    "print(state_possessions(possession = \"notebook\"))                                          #1 keyword, 2 default\n",
    "print(state_possessions(number = 0, \"John Wick\", \"dog\"))                                   #positional argument following a keyword argument results in an error"
   ]
  },
  {
   "cell_type": "markdown",
   "id": "dbac7c38",
   "metadata": {},
   "source": [
    "### 2.2 Docstrings"
   ]
  },
  {
   "cell_type": "code",
   "execution_count": 30,
   "id": "041e10c1",
   "metadata": {},
   "outputs": [
    {
     "name": "stdout",
     "output_type": "stream",
     "text": [
      "245\n",
      "Help on function weird_addition in module __main__:\n",
      "\n",
      "weird_addition(a=0, b=0, c=0)\n",
      "    A function that returns a + b**2 + c**3\n",
      "    Input keys are a, b, and c respectively\n",
      "    Please don't input strings!\n",
      "\n"
     ]
    }
   ],
   "source": [
    "def weird_addition(a=0, b=0, c=0):\n",
    "    '''\n",
    "    A function that returns a + b**2 + c**3\n",
    "    Input keys are a, b, and c respectively\n",
    "    Please don\\'t input strings!\n",
    "    '''\n",
    "    return a + b**2 + c**3\n",
    "\n",
    "print(weird_addition(4,5,6))\n",
    "help(weird_addition)"
   ]
  },
  {
   "cell_type": "markdown",
   "id": "968689bb",
   "metadata": {},
   "source": [
    "### 2.3 Function are first class citizens"
   ]
  },
  {
   "cell_type": "code",
   "execution_count": 33,
   "id": "39843a8f",
   "metadata": {},
   "outputs": [
    {
     "name": "stdout",
     "output_type": "stream",
     "text": [
      "16\n"
     ]
    }
   ],
   "source": [
    "def operation_on_integer(operation, integer):\n",
    "    return operation(integer)\n",
    "\n",
    "print(operation_on_integer(lambda x: 3*x+1, 5))"
   ]
  },
  {
   "cell_type": "markdown",
   "id": "31b12cae",
   "metadata": {},
   "source": [
    "### 2.4 More unpacking"
   ]
  },
  {
   "cell_type": "code",
   "execution_count": 47,
   "id": "04b41756",
   "metadata": {},
   "outputs": [
    {
     "name": "stdout",
     "output_type": "stream",
     "text": [
      "1\n",
      "['2', '3', '4', '5', '3', '1', '0', '4', '3']\n",
      "nope\n",
      "\n",
      "\n",
      "1\n",
      "[2, 3, 4, 5, 6, 7, 8, 9]\n"
     ]
    }
   ],
   "source": [
    "import numpy as np\n",
    "\n",
    "x, *y, z = np.array([1, 2, 3, 4, 5, 3,1,0,4,3,\"nope\"])\n",
    "print(x, y, z, sep = \"\\n\", end = \"\\n\\n\\n\")\n",
    "\n",
    "x, *_, y = [1, 2, 3, 4, 5, 6,7,8,9,0]\n",
    "print(x, _, sep = \"\\n\")\n",
    "\n",
    "# A starred expression in an assignment means it's a catchall for everything else.\n",
    "# If you have more than 1 starred expression you're gonna get an error since it doesn't make sense to have 2 catchalls."
   ]
  },
  {
   "cell_type": "markdown",
   "id": "a719e0c9",
   "metadata": {},
   "source": [
    "## Exercise 1 :  A better calculator I"
   ]
  },
  {
   "cell_type": "markdown",
   "id": "b0141e7a",
   "metadata": {},
   "source": [
    "Calculator function but using assert"
   ]
  },
  {
   "cell_type": "code",
   "execution_count": 70,
   "id": "f56b235f",
   "metadata": {},
   "outputs": [
    {
     "ename": "AssertionError",
     "evalue": "I can't do this because it'll result in a division by zero!",
     "output_type": "error",
     "traceback": [
      "\u001b[1;31m---------------------------------------------------------------------------\u001b[0m",
      "\u001b[1;31mAssertionError\u001b[0m                            Traceback (most recent call last)",
      "\u001b[1;32m~\\AppData\\Local\\Temp\\ipykernel_19344\\2723256692.py\u001b[0m in \u001b[0;36m<module>\u001b[1;34m\u001b[0m\n\u001b[0;32m     17\u001b[0m \u001b[0my\u001b[0m\u001b[1;33m=\u001b[0m\u001b[0mnp\u001b[0m\u001b[1;33m.\u001b[0m\u001b[0marray\u001b[0m\u001b[1;33m(\u001b[0m\u001b[1;33m[\u001b[0m\u001b[1;36m64\u001b[0m\u001b[1;33m,\u001b[0m \u001b[1;36m66\u001b[0m\u001b[1;33m,\u001b[0m \u001b[1;36m56\u001b[0m\u001b[1;33m,\u001b[0m \u001b[1;36m24\u001b[0m\u001b[1;33m,\u001b[0m \u001b[1;36m73\u001b[0m\u001b[1;33m,\u001b[0m \u001b[1;36m0\u001b[0m\u001b[1;33m,\u001b[0m \u001b[1;36m1\u001b[0m\u001b[1;33m]\u001b[0m\u001b[1;33m)\u001b[0m\u001b[1;33m\u001b[0m\u001b[1;33m\u001b[0m\u001b[0m\n\u001b[0;32m     18\u001b[0m \u001b[1;33m\u001b[0m\u001b[0m\n\u001b[1;32m---> 19\u001b[1;33m \u001b[0mprint\u001b[0m\u001b[1;33m(\u001b[0m\u001b[0madd\u001b[0m\u001b[1;33m(\u001b[0m\u001b[0mx\u001b[0m\u001b[1;33m,\u001b[0m\u001b[0my\u001b[0m\u001b[1;33m)\u001b[0m\u001b[1;33m,\u001b[0m \u001b[0msubtract\u001b[0m\u001b[1;33m(\u001b[0m\u001b[0mx\u001b[0m\u001b[1;33m,\u001b[0m\u001b[0my\u001b[0m\u001b[1;33m)\u001b[0m\u001b[1;33m,\u001b[0m \u001b[0mmultiply\u001b[0m\u001b[1;33m(\u001b[0m\u001b[0mx\u001b[0m\u001b[1;33m,\u001b[0m\u001b[0my\u001b[0m\u001b[1;33m)\u001b[0m\u001b[1;33m,\u001b[0m \u001b[0mdivide\u001b[0m\u001b[1;33m(\u001b[0m\u001b[0mx\u001b[0m\u001b[1;33m,\u001b[0m\u001b[0my\u001b[0m\u001b[1;33m)\u001b[0m\u001b[1;33m,\u001b[0m \u001b[0msep\u001b[0m \u001b[1;33m=\u001b[0m \u001b[1;34m\"\\n\"\u001b[0m\u001b[1;33m)\u001b[0m\u001b[1;33m\u001b[0m\u001b[1;33m\u001b[0m\u001b[0m\n\u001b[0m",
      "\u001b[1;32m~\\AppData\\Local\\Temp\\ipykernel_19344\\2723256692.py\u001b[0m in \u001b[0;36mdivide\u001b[1;34m(x, y)\u001b[0m\n\u001b[0;32m     11\u001b[0m \u001b[1;33m\u001b[0m\u001b[0m\n\u001b[0;32m     12\u001b[0m \u001b[1;32mdef\u001b[0m \u001b[0mdivide\u001b[0m\u001b[1;33m(\u001b[0m\u001b[0mx\u001b[0m\u001b[1;33m,\u001b[0m\u001b[0my\u001b[0m\u001b[1;33m)\u001b[0m\u001b[1;33m:\u001b[0m\u001b[1;33m\u001b[0m\u001b[1;33m\u001b[0m\u001b[0m\n\u001b[1;32m---> 13\u001b[1;33m     \u001b[1;32massert\u001b[0m \u001b[0mnp\u001b[0m\u001b[1;33m.\u001b[0m\u001b[0mall\u001b[0m\u001b[1;33m(\u001b[0m\u001b[0my\u001b[0m \u001b[1;33m!=\u001b[0m \u001b[1;36m0\u001b[0m\u001b[1;33m)\u001b[0m\u001b[1;33m,\u001b[0m \u001b[1;34m\"I can't do this because it'll result in a division by zero!\"\u001b[0m\u001b[1;33m\u001b[0m\u001b[1;33m\u001b[0m\u001b[0m\n\u001b[0m\u001b[0;32m     14\u001b[0m     \u001b[1;32mreturn\u001b[0m \u001b[0mx\u001b[0m\u001b[1;33m/\u001b[0m\u001b[0my\u001b[0m\u001b[1;33m\u001b[0m\u001b[1;33m\u001b[0m\u001b[0m\n\u001b[0;32m     15\u001b[0m \u001b[1;33m\u001b[0m\u001b[0m\n",
      "\u001b[1;31mAssertionError\u001b[0m: I can't do this because it'll result in a division by zero!"
     ]
    }
   ],
   "source": [
    "import numpy as np\n",
    "\n",
    "def add(x,y):\n",
    "    return x+y\n",
    "\n",
    "def subtract(x,y):\n",
    "    return x-y\n",
    "\n",
    "def multiply(x,y):\n",
    "    return x*y\n",
    "\n",
    "def divide(x,y):\n",
    "    assert np.all(y != 0), \"I can't do this because it'll result in a division by zero!\"\n",
    "    return x/y\n",
    "\n",
    "x=np.array([36, 34, 44, 76, 27, 45, 10])\n",
    "y=np.array([64, 66, 56, 24, 73, 0, 1])\n",
    "\n",
    "print(add(x,y), subtract(x,y), multiply(x,y), divide(x,y), sep = \"\\n\")\n"
   ]
  },
  {
   "cell_type": "markdown",
   "id": "8353f0d0",
   "metadata": {},
   "source": [
    "## Exercise 2 :  A better calculator II"
   ]
  },
  {
   "cell_type": "code",
   "execution_count": 97,
   "id": "91c617e1",
   "metadata": {},
   "outputs": [
    {
     "name": "stdout",
     "output_type": "stream",
     "text": [
      "Your second number can't be 0!\n",
      "Please only enter numbers into this function\n"
     ]
    }
   ],
   "source": [
    "import numpy as np\n",
    "\n",
    "def add(x,y):\n",
    "    try:\n",
    "        x,y = float(x), float(y)\n",
    "        return x+y\n",
    "    except ValueError:\n",
    "        return \"Please only enter numbers into this function\"\n",
    "\n",
    "def subtract(x,y):\n",
    "    try:\n",
    "        x,y = float(x), float(y)\n",
    "        return x-y\n",
    "    except ValueError:\n",
    "        return \"Please only enter numbers into this function\"\n",
    "\n",
    "def multiply(x,y):\n",
    "    try:\n",
    "        x,y = float(x), float(y)\n",
    "        return x*y\n",
    "    except ValueError:\n",
    "        return \"Please only enter numbers into this function\"\n",
    "\n",
    "def divide(x,y):\n",
    "    try:\n",
    "        x,y = float(x), float(y)\n",
    "        return x/y\n",
    "    except ValueError:\n",
    "        return \"Please only enter numbers into this function\"\n",
    "    except ZeroDivisionError:\n",
    "        return \"Your second number can't be 0!\"\n",
    "    \n",
    "print(divide(10, 0))\n",
    "print(divide(10, \"yes\"))"
   ]
  }
 ],
 "metadata": {
  "kernelspec": {
   "display_name": "Python 3 (ipykernel)",
   "language": "python",
   "name": "python3"
  },
  "language_info": {
   "codemirror_mode": {
    "name": "ipython",
    "version": 3
   },
   "file_extension": ".py",
   "mimetype": "text/x-python",
   "name": "python",
   "nbconvert_exporter": "python",
   "pygments_lexer": "ipython3",
   "version": "3.9.13"
  },
  "toc": {
   "base_numbering": 1,
   "nav_menu": {},
   "number_sections": true,
   "sideBar": true,
   "skip_h1_title": false,
   "title_cell": "Table of Contents",
   "title_sidebar": "Contents",
   "toc_cell": false,
   "toc_position": {},
   "toc_section_display": true,
   "toc_window_display": false
  },
  "varInspector": {
   "cols": {
    "lenName": 16,
    "lenType": 16,
    "lenVar": 40
   },
   "kernels_config": {
    "python": {
     "delete_cmd_postfix": "",
     "delete_cmd_prefix": "del ",
     "library": "var_list.py",
     "varRefreshCmd": "print(var_dic_list())"
    },
    "r": {
     "delete_cmd_postfix": ") ",
     "delete_cmd_prefix": "rm(",
     "library": "var_list.r",
     "varRefreshCmd": "cat(var_dic_list()) "
    }
   },
   "types_to_exclude": [
    "module",
    "function",
    "builtin_function_or_method",
    "instance",
    "_Feature"
   ],
   "window_display": false
  },
  "vscode": {
   "interpreter": {
    "hash": "31f2aee4e71d21fbe5cf8b01ff0e069b9275f58929596ceb00d14d90e3e16cd6"
   }
  }
 },
 "nbformat": 4,
 "nbformat_minor": 5
}
