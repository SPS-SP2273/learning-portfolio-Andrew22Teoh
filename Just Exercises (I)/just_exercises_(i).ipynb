{
 "cells": [
  {
   "cell_type": "markdown",
   "id": "123456",
   "metadata": {},
   "source": [
    "<div style=\"text-align:left;font-size:2em\"><span style=\"font-weight:bolder;font-size:1.25em\">SP2273 | Learning Portfolio</span><br><br><span style=\"font-weight:bold;color:darkred\">Just Exercises (I)</span></div>"
   ]
  },
  {
   "cell_type": "markdown",
   "id": "034b93ce",
   "metadata": {},
   "source": [
    "## Exercise 1 :  F-strings to the rescue"
   ]
  },
  {
   "cell_type": "code",
   "execution_count": 1,
   "id": "b4268b88",
   "metadata": {},
   "outputs": [
    {
     "name": "stdout",
     "output_type": "stream",
     "text": [
      "00001\n",
      "00002\n",
      "00003\n",
      "00004\n",
      "00005\n",
      "00006\n",
      "00007\n",
      "00008\n",
      "00009\n",
      "00010\n"
     ]
    }
   ],
   "source": [
    "for i in range(1,11):\n",
    "    digits = len(str(i))\n",
    "    print(f'{(5-digits)*\"0\"}{i}')"
   ]
  },
  {
   "cell_type": "code",
   "execution_count": 2,
   "id": "e83cf6f6",
   "metadata": {},
   "outputs": [
    {
     "name": "stdout",
     "output_type": "stream",
     "text": [
      "00001\n",
      "00002\n",
      "00003\n",
      "00004\n",
      "00005\n",
      "00006\n",
      "00007\n",
      "00008\n",
      "00009\n",
      "00010\n"
     ]
    }
   ],
   "source": [
    "#using f-string to do it instead oops\n",
    "\n",
    "for i in range(1,11):\n",
    "    print(f'{i:05}')"
   ]
  },
  {
   "cell_type": "code",
   "execution_count": 3,
   "id": "ccb3363f",
   "metadata": {},
   "outputs": [
    {
     "name": "stdout",
     "output_type": "stream",
     "text": [
      "001          +\n",
      "002         ++\n",
      "003        +++\n",
      "004       ++++\n",
      "005      +++++\n",
      "006     ++++++\n",
      "007    +++++++\n",
      "008   ++++++++\n",
      "009  +++++++++\n",
      "010 ++++++++++\n"
     ]
    }
   ],
   "source": [
    "for i in range(1,11):\n",
    "    digits = len(str(i))\n",
    "    print(f'{(3-digits)*\"0\"}{i} {(10-i)*\" \"}{i*\"+\"}')"
   ]
  },
  {
   "cell_type": "code",
   "execution_count": 4,
   "id": "96e3aaf3",
   "metadata": {},
   "outputs": [
    {
     "name": "stdout",
     "output_type": "stream",
     "text": [
      "001 -+++++++++\n",
      "002 --++++++++\n",
      "003 ---+++++++\n",
      "004 ----++++++\n",
      "005 -----+++++\n",
      "006 ------++++\n",
      "007 -------+++\n",
      "008 --------++\n",
      "009 ---------+\n",
      "010 ----------\n"
     ]
    }
   ],
   "source": [
    "for i in range(1,11):\n",
    "    digits = len(str(i))\n",
    "    print(f'{(3-digits)*\"0\"}{i} {i*\"-\"}{(10-i)*\"+\"}')"
   ]
  },
  {
   "cell_type": "code",
   "execution_count": 5,
   "id": "0d421294",
   "metadata": {},
   "outputs": [
    {
     "name": "stdout",
     "output_type": "stream",
     "text": [
      "['bruce_exploits.txt', 'bruce_enemies.txt', 'bruce_friends.txt', 'natasha_exploits.txt', 'natasha_enemies.txt', 'natasha_friends.txt', 'tony_exploits.txt', 'tony_enemies.txt', 'tony_friends.txt']\n"
     ]
    }
   ],
   "source": [
    "person = [\"bruce\", \"natasha\", \"tony\"]\n",
    "info = [\"exploits\",\"enemies\", \"friends\"]\n",
    "person_info = []\n",
    "for p in person:\n",
    "    for i in info:\n",
    "        person_info.append(p+\"_\"+i+\".txt\")\n",
    "\n",
    "print(person_info)\n",
    "        "
   ]
  },
  {
   "cell_type": "code",
   "execution_count": 6,
   "id": "dba871af",
   "metadata": {
    "code_folding": [
     13
    ]
   },
   "outputs": [
    {
     "ename": "NameError",
     "evalue": "name 't' is not defined",
     "output_type": "error",
     "traceback": [
      "\u001b[1;31m---------------------------------------------------------------------------\u001b[0m",
      "\u001b[1;31mNameError\u001b[0m                                 Traceback (most recent call last)",
      "\u001b[1;32m~\\AppData\\Local\\Temp\\ipykernel_15480\\2813029571.py\u001b[0m in \u001b[0;36m<module>\u001b[1;34m\u001b[0m\n\u001b[0;32m     13\u001b[0m \u001b[1;33m\u001b[0m\u001b[0m\n\u001b[0;32m     14\u001b[0m \u001b[1;31m#for t in trial_logs:\u001b[0m\u001b[1;33m\u001b[0m\u001b[1;33m\u001b[0m\u001b[0m\n\u001b[1;32m---> 15\u001b[1;33m     \u001b[0mprint\u001b[0m\u001b[1;33m(\u001b[0m\u001b[0mt\u001b[0m\u001b[1;33m)\u001b[0m\u001b[1;33m\u001b[0m\u001b[1;33m\u001b[0m\u001b[0m\n\u001b[0m",
      "\u001b[1;31mNameError\u001b[0m: name 't' is not defined"
     ]
    }
   ],
   "source": [
    "countries = [\"sg\", \"gb\", \"us\"]\n",
    "experiments = [\"exp-01\", \"exp-02\", \"exp-03\"]\n",
    "\n",
    "trial_logs = []\n",
    "\n",
    "for c in countries:\n",
    "    for e in experiments:\n",
    "        for i in range(1, 51):\n",
    "            i = str(i)\n",
    "            if len(i) == 1:\n",
    "                i = \"0\"+i\n",
    "            trial_logs.append(\"data_\"+c+\"_\"+e+\"_trial-0\"+i+\".txt\")\n",
    "            \n",
    "#for t in trial_logs:\n",
    "    print(t)"
   ]
  },
  {
   "cell_type": "markdown",
   "id": "1db3e869",
   "metadata": {},
   "source": [
    "## Exercise 2 :  Tutti frutti"
   ]
  },
  {
   "cell_type": "code",
   "execution_count": null,
   "id": "753849dc",
   "metadata": {},
   "outputs": [],
   "source": [
    "fruits = [\"apple\", \"banana\", \"pineapple\", \"jackfruit\",\n",
    "        \"peach\", \"durian\", \"watermelon\", \"mango\",\n",
    "        \"strawberry\", \"passionfruit\"]\n",
    "\n",
    "if \"mango\" in fruits:\n",
    "    print(f'The elements \\\"mango\\\" exists in fruits.')\n",
    "else: \n",
    "    print(f'mango is not in the list')"
   ]
  },
  {
   "cell_type": "code",
   "execution_count": null,
   "id": "0a6619b7",
   "metadata": {},
   "outputs": [],
   "source": [
    "fruits = [\"apple\", \"banana\", \"pineapple\", \"jackfruit\",\n",
    "        \"peach\", \"durian\", \"watermelon\", \"mango\",\n",
    "        \"strawberry\", \"passionfruit\"]\n",
    "\n",
    "for i in fruits:\n",
    "    print(i[0],i[-1])"
   ]
  },
  {
   "cell_type": "code",
   "execution_count": null,
   "id": "733ec85c",
   "metadata": {},
   "outputs": [],
   "source": [
    "fruits = [\"apple\", \"banana\", \"pineapple\", \"jackfruit\",\n",
    "        \"peach\", \"durian\", \"watermelon\", \"mango\",\n",
    "        \"strawberry\", \"passionfruit\"]\n",
    "\n",
    "for i in fruits:\n",
    "    if i[0] == \"p\":\n",
    "        print(i.upper())\n",
    "    else:\n",
    "        print(i.lower())"
   ]
  },
  {
   "cell_type": "code",
   "execution_count": null,
   "id": "f8e82f02",
   "metadata": {},
   "outputs": [],
   "source": [
    "fruits = [\"apple\", \"banana\", \"pineapple\", \"jackfruit\",\n",
    "        \"peach\", \"durian\", \"watermelon\", \"mango\",\n",
    "        \"strawberry\", \"passionfruit\"]\n",
    "\n",
    "more_fruits = [\"dragon fruit\", \"apricots\", \"oranges\"]\n",
    "\n",
    "for i in more_fruits:\n",
    "    fruits.append(i)"
   ]
  },
  {
   "cell_type": "code",
   "execution_count": null,
   "id": "bc662504",
   "metadata": {
    "code_folding": []
   },
   "outputs": [],
   "source": [
    "fruits = [\"apple\", \"banana\", \"pineapple\", \"jackfruit\",\n",
    "        \"peach\", \"durian\", \"watermelon\", \"mango\",\n",
    "        \"strawberry\", \"passionfruit\"]\n",
    "\n",
    "more_fruits = [\"dragon fruit\", \"apricots\", \"oranges\"]\n",
    "\n",
    "#for i in more_fruits:\n",
    "#    fruits.insert(0,i)\n",
    "#this works, but it inverts the order of more_fruits\n",
    "\n",
    "for position, fruit in enumerate(more_fruits):\n",
    "    fruits.insert(0+position, fruit)"
   ]
  },
  {
   "cell_type": "code",
   "execution_count": null,
   "id": "6578d8a3",
   "metadata": {},
   "outputs": [],
   "source": [
    "import math\n",
    "fruits = [\"apple\", \"banana\", \"pineapple\", \"jackfruit\",\n",
    "        \"peach\", \"durian\", \"watermelon\", \"mango\",\n",
    "        \"strawberry\", \"passionfruit\"]\n",
    "\n",
    "more_fruits = [\"dragon fruit\", \"apricots\", \"oranges\"]\n",
    "\n",
    "for position,fruit in enumerate(more_fruits):\n",
    "    fruits.insert(position+math.floor(len(fruits)/2), fruit)"
   ]
  },
  {
   "cell_type": "code",
   "execution_count": null,
   "id": "47ac8b23",
   "metadata": {},
   "outputs": [],
   "source": [
    "long_fruits = [i for i in fruits if len(i)>8]\n",
    "print (long_fruits)"
   ]
  },
  {
   "cell_type": "markdown",
   "id": "190e396e",
   "metadata": {},
   "source": [
    "## Exercise 3 :  Ciao Fibonacci"
   ]
  },
  {
   "cell_type": "code",
   "execution_count": null,
   "id": "36e7d309",
   "metadata": {},
   "outputs": [],
   "source": [
    "fibonacci = [0,1]\n",
    "for i in range(13):\n",
    "    fibonacci.append(fibonacci[-1]+fibonacci[-2])\n",
    "print(fibonacci)"
   ]
  },
  {
   "cell_type": "markdown",
   "id": "34a30a09",
   "metadata": {},
   "source": [
    "## Exercise 4 :  A function for Fibonacci"
   ]
  },
  {
   "cell_type": "code",
   "execution_count": 22,
   "id": "98b7a849",
   "metadata": {
    "code_folding": []
   },
   "outputs": [
    {
     "name": "stdout",
     "output_type": "stream",
     "text": [
      "46\n",
      "[0, 1, 1, 2, 3, 5, 8, 13, 21, 34, 55, 89, 144, 233, 377, 610, 987, 1597, 2584, 4181, 6765, 10946, 17711, 28657, 46368, 75025, 121393, 196418, 317811, 514229, 832040, 1346269, 2178309, 3524578, 5702887, 9227465, 14930352, 24157817, 39088169, 63245986, 102334155, 165580141, 267914296, 433494437, 701408733, 1134903170]\n"
     ]
    }
   ],
   "source": [
    "def fibonacci(n):\n",
    "    import math\n",
    "    fibonacci_list = []\n",
    "    try:\n",
    "        float(n)\n",
    "    except ValueError:\n",
    "        return \"Just give me a number input please\"\n",
    "    if len(str(n)) > 3:\n",
    "        return \"That's too big of a number sorry...the program would probably crash. Try a smaller number?\"\n",
    "    n = float(n)\n",
    "    if math.floor(n) != math.ceil(n):\n",
    "        return (\"My man you gotta give me an integer, how do you expect me to give you half an item?\")\n",
    "    if n<0:\n",
    "        return \"Bruh how do you have a list with a negative number of items\"\n",
    "    elif n == 0:\n",
    "        return fibonacci_list\n",
    "    n = int(n)\n",
    "    fibonacci_list.append(0)\n",
    "    if n == 1:\n",
    "        return fibonacci_list\n",
    "    fibonacci_list.append(1)\n",
    "    if n == 2:\n",
    "        return fibonacci_list\n",
    "    for i in range(n-2):\n",
    "        fibonacci_list.append(fibonacci_list[-1]+fibonacci_list[-2])\n",
    "    return fibonacci_list\n",
    "\n",
    "print(fibonacci(input()))"
   ]
  },
  {
   "cell_type": "markdown",
   "id": "a4459f4a",
   "metadata": {},
   "source": [
    "## Exercise 5 :  max_info() without NumPy"
   ]
  },
  {
   "cell_type": "code",
   "execution_count": 28,
   "id": "8e44508e",
   "metadata": {},
   "outputs": [
    {
     "name": "stdout",
     "output_type": "stream",
     "text": [
      "The largest number in this list is 10304, at Index 10\n"
     ]
    }
   ],
   "source": [
    "def max_info(numbers):\n",
    "    big_chongus = numbers[0]\n",
    "    position = 0                       #Index\n",
    "    for i in range(1,len(numbers)):\n",
    "        if big_chongus < numbers[i]:\n",
    "            big_chongus = numbers[i]\n",
    "            position = i\n",
    "    return f'The largest number in this list is {big_chongus}, at Index {position}'\n",
    "numbers = [40, 27, 83, 44, 74, 51, 76, 77, 10, 49, 10304]\n",
    "\n",
    "print(max_info(numbers))"
   ]
  },
  {
   "cell_type": "markdown",
   "id": "05612b33",
   "metadata": {},
   "source": [
    "## Exercise 6 :  Take count"
   ]
  },
  {
   "cell_type": "code",
   "execution_count": 18,
   "id": "a451e166",
   "metadata": {},
   "outputs": [],
   "source": [
    "dna = \"AGGCAAGAAGCTAGAATTCTGGCCTGAGTATCTCAGTACAGGCGCAGTCGAATCTTCCGGAATCACATTGCTCGCGCTTAAACCCGCTCTAAACCTTTGAGTAATTCGACGACATTGGGTTCCCTCCGACGCTGTCTGACAACTCTTTAAGATCCTTGGCACGATGTCGATAGACATTGTCCCTGATGACGCCTCACAAGGTAACCTGGCTCTAGTAGGGTGGTCTTTGCTGCGGAACTTACCACCTGGTGGATCCAAGCACCAGAGGAGTTCGAAGAGGCTGGGGTACCCCCTATTTAGGAAGGGCGAGACTACGGTCACAAATTCCAAATGGCTTCCCTCGATTCATGACGCCAGAATGCCTGGCTGTGCCAATTTGTCGCCTTGCGTCGTTCTGTCAATCTTTACTCGTGTCGTGTTGTGATAAATGACAAACCCTGCACAACGTAGGGCTCACACAAGGGAATCTAGAGTATCCGATACAGGGAGCTTTAGCTTCCGTCCCTTATAGCCTGCCATATTCTTGCGGTAGCACGAGCCTCAGATCTTCTCACTCCGGAAATGGGAGCTTCGACGGTCAAGGGCTAAGACGTCTTCGGGAGAAATACCTAGGCGATGACCCTGAGTGGTTTTCCGCGTATAACTCATCCTGGTTGCAAATGATTACCGTTATAGCCTGGGGATATGCCTCAATTCCGAACCCAGGAGCATCACTCGAGCAATAGCGGTAAAGGAGGCTATTAGCAAAATTGTCACGATAAGCGCCGTTGTAGTGAAATTAAGATACATACATCGTTTAGCACATCACTCTCACGGCGTCTAGAAGCTGATCTTCATATGCTGACTCAGAAGGCTCGGATAATAGAGGACGAAGGTAGTTTACTCATCGCTGCCCCGACTATTACGTGTGCATGATAAAGTCTGACCCTGACGTTCCCAAGCCGAGGCAGAGGGGTTTTACGCTGAATGTCCGCTCTCTGTCGGATGATTTCGGAAGCTG\"\n",
    "\n",
    "#1\n",
    "nucleotides = list(dna)\n",
    "#print(nucleotides)\n",
    "\n",
    "#2\n",
    "num_of_T = 0\n",
    "for i in nucleotides:\n",
    "    if i == \"T\":\n",
    "        num_of_T += 1\n",
    "#print(num_of_T)\n",
    "\n",
    "#3\n",
    "comprehend_T = [i for i in nucleotides if i == \"T\"]\n",
    "num_of_T_alt = len(comprehend_T)\n",
    "#print(num_of_T_alt)\n",
    "\n",
    "#4\n",
    "A = 0\n",
    "T = 0\n",
    "C = 0\n",
    "G = 0\n",
    "for i in nucleotides:\n",
    "    if i == \"A\":\n",
    "        A += 1\n",
    "    elif i == \"T\":\n",
    "        T += 1\n",
    "    elif i == \"C\":\n",
    "        C += 1\n",
    "    else:\n",
    "        G += 1\n",
    "each_nucleotide = {\"A\":A, \"T\":T, \"C\":C, \"G\":G}\n",
    "#print(each_nucleotide)\n",
    "    \n",
    "#5\n",
    "import numpy as np\n",
    "count_each = np.unique(nucleotides, return_counts = True)\n",
    "#print(count_each)\n",
    "\n",
    "#6\n",
    "not_codons = []\n",
    "for i in range(len(nucleotides)//4):\n",
    "    item = nucleotides[i*4] + nucleotides[i*4+1] + nucleotides[i*4+2] + nucleotides[i*4+3]\n",
    "    not_codons.append(item)\n",
    "    \n",
    "#print(not_codons)"
   ]
  }
 ],
 "metadata": {
  "kernelspec": {
   "display_name": "Python 3 (ipykernel)",
   "language": "python",
   "name": "python3"
  },
  "language_info": {
   "codemirror_mode": {
    "name": "ipython",
    "version": 3
   },
   "file_extension": ".py",
   "mimetype": "text/x-python",
   "name": "python",
   "nbconvert_exporter": "python",
   "pygments_lexer": "ipython3",
   "version": "3.9.13"
  },
  "toc": {
   "base_numbering": 1,
   "nav_menu": {},
   "number_sections": true,
   "sideBar": true,
   "skip_h1_title": false,
   "title_cell": "Table of Contents",
   "title_sidebar": "Contents",
   "toc_cell": false,
   "toc_position": {},
   "toc_section_display": true,
   "toc_window_display": false
  },
  "varInspector": {
   "cols": {
    "lenName": 16,
    "lenType": 16,
    "lenVar": 40
   },
   "kernels_config": {
    "python": {
     "delete_cmd_postfix": "",
     "delete_cmd_prefix": "del ",
     "library": "var_list.py",
     "varRefreshCmd": "print(var_dic_list())"
    },
    "r": {
     "delete_cmd_postfix": ") ",
     "delete_cmd_prefix": "rm(",
     "library": "var_list.r",
     "varRefreshCmd": "cat(var_dic_list()) "
    }
   },
   "types_to_exclude": [
    "module",
    "function",
    "builtin_function_or_method",
    "instance",
    "_Feature"
   ],
   "window_display": false
  },
  "vscode": {
   "interpreter": {
    "hash": "31f2aee4e71d21fbe5cf8b01ff0e069b9275f58929596ceb00d14d90e3e16cd6"
   }
  }
 },
 "nbformat": 4,
 "nbformat_minor": 5
}
