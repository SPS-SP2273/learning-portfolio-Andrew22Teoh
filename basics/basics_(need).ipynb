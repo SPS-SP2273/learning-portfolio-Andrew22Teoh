{
 "cells": [
  {
   "cell_type": "markdown",
   "id": "123456",
   "metadata": {},
   "source": [
    "<div style=\"text-align:left;font-size:2em\"><span style=\"font-weight:bolder;font-size:1.25em\">SP2273 | Learning Portfolio</span><br><br><span style=\"font-weight:bold;color:darkred\">Basics (Need)</span></div>"
   ]
  },
  {
   "cell_type": "markdown",
   "id": "138df8ab",
   "metadata": {},
   "source": [
    "## 1 Some Python Basics"
   ]
  },
  {
   "cell_type": "markdown",
   "id": "55d5cf12",
   "metadata": {},
   "source": [
    "### 1.1 Functions"
   ]
  },
  {
   "cell_type": "code",
   "execution_count": 1,
   "id": "29a490fc",
   "metadata": {},
   "outputs": [
    {
     "name": "stdout",
     "output_type": "stream",
     "text": [
      "Hello World\n"
     ]
    }
   ],
   "source": [
    "print (\"Hello World\")"
   ]
  },
  {
   "cell_type": "markdown",
   "id": "d48a84ec",
   "metadata": {},
   "source": [
    "### 1.2 Python is interpreted"
   ]
  },
  {
   "cell_type": "code",
   "execution_count": 2,
   "id": "e431ce3a",
   "metadata": {},
   "outputs": [
    {
     "name": "stdout",
     "output_type": "stream",
     "text": [
      "Hello World\n",
      "Hello World again\n"
     ]
    }
   ],
   "source": [
    "print (\"Hello World\")\n",
    "print (\"Hello World again\")"
   ]
  },
  {
   "cell_type": "markdown",
   "id": "3c205002",
   "metadata": {},
   "source": [
    "### 1.3 Python is sensitive."
   ]
  },
  {
   "cell_type": "code",
   "execution_count": 3,
   "id": "54c74854",
   "metadata": {},
   "outputs": [
    {
     "name": "stdout",
     "output_type": "stream",
     "text": [
      "Heyo\n"
     ]
    },
    {
     "ename": "NameError",
     "evalue": "name 'Print' is not defined",
     "output_type": "error",
     "traceback": [
      "\u001b[1;31m---------------------------------------------------------------------------\u001b[0m",
      "\u001b[1;31mNameError\u001b[0m                                 Traceback (most recent call last)",
      "\u001b[1;32m~\\AppData\\Local\\Temp\\ipykernel_3524\\1475234596.py\u001b[0m in \u001b[0;36m<module>\u001b[1;34m\u001b[0m\n\u001b[0;32m      1\u001b[0m \u001b[0mprint\u001b[0m \u001b[1;33m(\u001b[0m\u001b[1;34m\"Heyo\"\u001b[0m\u001b[1;33m)\u001b[0m\u001b[1;33m\u001b[0m\u001b[1;33m\u001b[0m\u001b[0m\n\u001b[1;32m----> 2\u001b[1;33m \u001b[0mPrint\u001b[0m \u001b[1;33m(\u001b[0m\u001b[1;34m\"Aaaaaa\"\u001b[0m\u001b[1;33m)\u001b[0m\u001b[1;33m\u001b[0m\u001b[1;33m\u001b[0m\u001b[0m\n\u001b[0m\u001b[0;32m      3\u001b[0m \u001b[1;31m# Your code here\u001b[0m\u001b[1;33m\u001b[0m\u001b[1;33m\u001b[0m\u001b[0m\n",
      "\u001b[1;31mNameError\u001b[0m: name 'Print' is not defined"
     ]
    }
   ],
   "source": [
    "print (\"Heyo\")\n",
    "Print (\"Aaaaaa\")\n",
    "# Your code here\n"
   ]
  },
  {
   "cell_type": "markdown",
   "id": "560c0475",
   "metadata": {},
   "source": [
    "### 1.4 Comments"
   ]
  },
  {
   "cell_type": "code",
   "execution_count": 4,
   "id": "9cec530a",
   "metadata": {},
   "outputs": [
    {
     "name": "stdout",
     "output_type": "stream",
     "text": [
      "1\n",
      "2\n",
      "3\n",
      "4\n",
      "5\n"
     ]
    }
   ],
   "source": [
    "print (1)    #never\n",
    "print (2)    #gonna\n",
    "print (3)    #give\n",
    "print (4)    #you\n",
    "print (5)    #up"
   ]
  },
  {
   "cell_type": "markdown",
   "id": "2bfd60a6",
   "metadata": {},
   "source": [
    "### 1.5 = is not the same as =="
   ]
  },
  {
   "cell_type": "code",
   "execution_count": 5,
   "id": "ba00d677",
   "metadata": {},
   "outputs": [
    {
     "name": "stdout",
     "output_type": "stream",
     "text": [
      "Jack Sparrow is True\n"
     ]
    }
   ],
   "source": [
    "name = \"Jack Sparrow\"\n",
    "print (name, \"is\", name == \"Jack Sparrow\")"
   ]
  },
  {
   "cell_type": "markdown",
   "id": "02672ea7",
   "metadata": {},
   "source": [
    "### 1.6 Use if to make decisions"
   ]
  },
  {
   "cell_type": "code",
   "execution_count": null,
   "id": "b80d6b9d",
   "metadata": {},
   "outputs": [],
   "source": [
    "a = int(input(\"\"))\n",
    "if a%2 == 0:\n",
    "    print (\"this number is even\")\n",
    "else:\n",
    "    print (\"this number is odd\")"
   ]
  },
  {
   "cell_type": "markdown",
   "id": "6c2f4155",
   "metadata": {},
   "source": [
    "### 1.7 Indentations (spaces) are sooo IMPORTANT!"
   ]
  },
  {
   "cell_type": "code",
   "execution_count": 7,
   "id": "2c560a5f",
   "metadata": {},
   "outputs": [
    {
     "ename": "IndentationError",
     "evalue": "unexpected indent (1428063200.py, line 3)",
     "output_type": "error",
     "traceback": [
      "\u001b[1;36m  File \u001b[1;32m\"C:\\Users\\teohp\\AppData\\Local\\Temp\\ipykernel_3524\\1428063200.py\"\u001b[1;36m, line \u001b[1;32m3\u001b[0m\n\u001b[1;33m    print(x)\u001b[0m\n\u001b[1;37m    ^\u001b[0m\n\u001b[1;31mIndentationError\u001b[0m\u001b[1;31m:\u001b[0m unexpected indent\n"
     ]
    }
   ],
   "source": [
    "x = 10\n",
    "print (x)\n",
    " print(x)"
   ]
  },
  {
   "cell_type": "markdown",
   "id": "06699a04",
   "metadata": {},
   "source": [
    "### 1.8 ‘age’ is English, age is a variable."
   ]
  },
  {
   "cell_type": "code",
   "execution_count": 8,
   "id": "9a72b131",
   "metadata": {},
   "outputs": [
    {
     "name": "stdout",
     "output_type": "stream",
     "text": [
      "501\n",
      "age\n",
      "age = 501\n"
     ]
    }
   ],
   "source": [
    "age = 501\n",
    "print (age)\n",
    "print (\"age\")\n",
    "print (\"age =\", age)"
   ]
  },
  {
   "cell_type": "markdown",
   "id": "23caced4",
   "metadata": {},
   "source": [
    "### 1.9 Escape sequences"
   ]
  },
  {
   "cell_type": "code",
   "execution_count": 9,
   "id": "da55160a",
   "metadata": {},
   "outputs": [
    {
     "name": "stdout",
     "output_type": "stream",
     "text": [
      "\n",
      "This isn't the worst way to type this stuff \n",
      "Neither is it the best way\n",
      "\tYou could also do something like this\\that I suppose?\n",
      "\n",
      "\n",
      "\n",
      "\n",
      "\n",
      "But all of this is just 'personal preference' I think.\n",
      "\n",
      "\n",
      "\n"
     ]
    }
   ],
   "source": [
    "print ('''\n",
    "This isn\\'t the worst way to type this stuff \\nNeither is it the best way\n",
    "\\tYou could also do something like this\\\\that I suppose?\n",
    "\n",
    "\n",
    "\n",
    "\n",
    "\\nBut all of this is just \\'personal preference\\' I think.\n",
    "\n",
    "\n",
    "''')"
   ]
  },
  {
   "cell_type": "markdown",
   "id": "2224c32b",
   "metadata": {},
   "source": [
    "### 1.10 Brackets"
   ]
  },
  {
   "cell_type": "code",
   "execution_count": 12,
   "id": "f69e5d88",
   "metadata": {},
   "outputs": [
    {
     "name": "stdout",
     "output_type": "stream",
     "text": [
      "Let's play with brackets a little!\n",
      "26\n",
      "['cats', 'giraffes', 'fishes', 'vagus nerve']\n",
      "{'height': 178, 'age': 94, 'residence': 'bridge', 'race': 'troll'}\n",
      "The troll lives at the bridge\n",
      "{'p': 2, 'q': 4, 'r': 8, 's': 4}\n"
     ]
    }
   ],
   "source": [
    "print (\"Let's play with brackets a little!\")\n",
    "print (5 + 3 * (67 - 60))\n",
    "print ([\"cats\",\"giraffes\",\"fishes\",\"vagus nerve\"])\n",
    "a = {\"height\":178, \"age\":94,\"residence\":\"bridge\",\"race\":\"troll\"}\n",
    "b = {\n",
    "    \"p\" : 2,\n",
    "    \"q\" : 4,\n",
    "    \"r\" : 8,\n",
    "    \"s\": 4\n",
    "}\n",
    "print(a)\n",
    "print (\"The\", a[\"race\"], \"lives at the\", a[\"residence\"])\n",
    "print(b)"
   ]
  },
  {
   "cell_type": "markdown",
   "id": "4c0bf9a0",
   "metadata": {},
   "source": [
    "## 2 Giving Python superpowers"
   ]
  },
  {
   "cell_type": "markdown",
   "id": "c07dc8df",
   "metadata": {},
   "source": [
    "### 2.1 Packages"
   ]
  },
  {
   "cell_type": "code",
   "execution_count": 16,
   "id": "2a7906c1",
   "metadata": {},
   "outputs": [
    {
     "name": "stdout",
     "output_type": "stream",
     "text": [
      "4.0\n",
      "[ 3.  2.  8.  9. 15.]\n",
      "6.0\n",
      "6\n",
      "1\n"
     ]
    }
   ],
   "source": [
    "import math\n",
    "import numpy as np\n",
    "def root(a):\n",
    "    return math.sqrt(a)\n",
    "print(root(16))\n",
    "b = [9,4,64,81,225]\n",
    "print(np.sqrt(b))\n",
    "print(24/4)         #single / operator returns a float\n",
    "print(24//4)        #double // operator returns an integer, bcs floor division\n",
    "print (25%4)        #% modulo operator returns an integer, bcs remainder\n"
   ]
  },
  {
   "cell_type": "code",
   "execution_count": 17,
   "id": "fb4e74c0",
   "metadata": {},
   "outputs": [
    {
     "name": "stdout",
     "output_type": "stream",
     "text": [
      "[2. 3. 4.]\n"
     ]
    }
   ],
   "source": [
    "print(np.sqrt([4, 9, 16]))"
   ]
  },
  {
   "cell_type": "code",
   "execution_count": 18,
   "id": "da64d262",
   "metadata": {},
   "outputs": [
    {
     "name": "stdout",
     "output_type": "stream",
     "text": [
      "[ 4.24264069  3.          2.          8.          9.          8.66025404\n",
      " 15.        ]\n"
     ]
    }
   ],
   "source": [
    "b = [18,9,4,64,81,75,225]\n",
    "print(np.sqrt(b))           #why is the output formatting messed up by float outputs? is there any way to fix this?"
   ]
  },
  {
   "cell_type": "markdown",
   "id": "bc42dcea",
   "metadata": {},
   "source": [
    "### 2.2 The dot (.)"
   ]
  },
  {
   "cell_type": "code",
   "execution_count": 19,
   "id": "f7fb141c",
   "metadata": {},
   "outputs": [
    {
     "data": {
      "text/plain": [
       "['Hey', 'my', 'name', 'is', 'Eric']"
      ]
     },
     "execution_count": 19,
     "metadata": {},
     "output_type": "execute_result"
    }
   ],
   "source": [
    "\"Hey my name is Eric\".split()"
   ]
  },
  {
   "cell_type": "code",
   "execution_count": 20,
   "id": "14de0772",
   "metadata": {},
   "outputs": [
    {
     "name": "stdout",
     "output_type": "stream",
     "text": [
      "['Hey', 'my', 'name', 'is', 'Eric']\n"
     ]
    }
   ],
   "source": [
    "print(\"Hey my name is Eric\".split(\" \"))    #When you leave the .split() empty, it assumes split(\" \")"
   ]
  },
  {
   "cell_type": "code",
   "execution_count": 21,
   "id": "c45ba48b",
   "metadata": {},
   "outputs": [
    {
     "name": "stdout",
     "output_type": "stream",
     "text": [
      "['Hey ', 'y na', 'e is Eric']\n"
     ]
    }
   ],
   "source": [
    "print(\"Hey my name is Eric\".split(\"m\"))"
   ]
  },
  {
   "cell_type": "code",
   "execution_count": 22,
   "id": "35563049",
   "metadata": {},
   "outputs": [
    {
     "ename": "SyntaxError",
     "evalue": "invalid syntax (342206323.py, line 1)",
     "output_type": "error",
     "traceback": [
      "\u001b[1;36m  File \u001b[1;32m\"C:\\Users\\teohp\\AppData\\Local\\Temp\\ipykernel_3524\\342206323.py\"\u001b[1;36m, line \u001b[1;32m1\u001b[0m\n\u001b[1;33m    1234567.split() #Doesn't work\u001b[0m\n\u001b[1;37m            ^\u001b[0m\n\u001b[1;31mSyntaxError\u001b[0m\u001b[1;31m:\u001b[0m invalid syntax\n"
     ]
    }
   ],
   "source": [
    "1234567.split() #Doesn't work because you can't split an integer. Have to split strings/lists/tuples"
   ]
  },
  {
   "cell_type": "code",
   "execution_count": 23,
   "id": "228a31ba",
   "metadata": {},
   "outputs": [
    {
     "data": {
      "text/plain": [
       "['1232123212321']"
      ]
     },
     "execution_count": 23,
     "metadata": {},
     "output_type": "execute_result"
    }
   ],
   "source": [
    "\"1232123212321\".split()"
   ]
  },
  {
   "cell_type": "code",
   "execution_count": 24,
   "id": "483e1ad9",
   "metadata": {},
   "outputs": [
    {
     "data": {
      "text/plain": [
       "['1', '3', '1', '3', '1', '3', '1']"
      ]
     },
     "execution_count": 24,
     "metadata": {},
     "output_type": "execute_result"
    }
   ],
   "source": [
    "\"1232123212321\".split(\"2\")"
   ]
  },
  {
   "cell_type": "markdown",
   "id": "afda4224",
   "metadata": {},
   "source": [
    "## Exercise 1 :  Total recall?"
   ]
  },
  {
   "cell_type": "markdown",
   "id": "463c5198",
   "metadata": {},
   "source": [
    "# Python Functions:\n",
    "1. print()\n",
    "2. list.split()\n",
    "3. list.sort()\n",
    "4. int(), float(), str(), bool()\n",
    "5. list()\n",
    "6. tuple()\n",
    "7. \n",
    "\n",
    "\n",
    "### Missed Ones:\n",
    "1. *sqrt()*\n"
   ]
  },
  {
   "cell_type": "markdown",
   "id": "c910578e",
   "metadata": {},
   "source": [
    "## Exercise 2 :  Debug me"
   ]
  },
  {
   "cell_type": "code",
   "execution_count": null,
   "id": "d6934d98",
   "metadata": {},
   "outputs": [],
   "source": [
    "import math\n",
    "x, y = 3, 4\n",
    "z = math.sqrt(3**2+4**2)\n",
    "pythag_triple = [int(x), int(y), int(z)]\n",
    "print (\"A Pythagorean triple is\", pythag_triple)"
   ]
  },
  {
   "cell_type": "markdown",
   "id": "9c11c239",
   "metadata": {},
   "source": [
    "## Exercise 3 :  In your own words"
   ]
  },
  {
   "cell_type": "markdown",
   "id": "7e5ce873",
   "metadata": {},
   "source": [
    "|**#**|**Term**|**Description**|\n",
    "|:--:|:--|:--|\n",
    "|1|Function|A function carries out an action on a value, that either returns a value or produces an output.|\n",
    "|2|Arguments|An argument is the value in the variable being passed to a function.|\n",
    "|3|Comments|Comments are signposts written by a programmer in code that do not affect its function, but rather serve to improve readability and aid understanding of the code for future reference by themself or others.|\n",
    "|4|Indentations|Indentations are created with either the spacebar or tab key, and they define the scope of a particular line or block of code for syntax reasons in code writing.|\n",
    "|5|Packages|Packages contain functions that have been previously written by others, which simplify the process of programming by referencing publicly available functions.|\n",
    "|6|.|A **.** is sometimes used to assign a function to a particular value, such as the str.split() function: the **.** serves to assign the splitting function to the string, and returns a list.|"
   ]
  },
  {
   "cell_type": "markdown",
   "id": "06968951",
   "metadata": {},
   "source": [
    "## Exercise 4 :  More than one way to divide"
   ]
  },
  {
   "cell_type": "code",
   "execution_count": null,
   "id": "9986b0d9",
   "metadata": {},
   "outputs": [],
   "source": [
    "a = 5/2 #This is division in the most commonly understood way: this operator can be used on integers or floats, and returns the float obtained when the first number is divided by the second number.\n",
    "\n",
    "b = 5//2 #This is floor division, and this operator divides the first number by the second number. It returns the number of times the second number can fit into the first number.\n",
    "\n",
    "c = 5%2 #This is the modulo operator. It carries out floor division by dividing the first number by the second number, and returns the remainder."
   ]
  }
 ],
 "metadata": {
  "kernelspec": {
   "display_name": "Python 3 (ipykernel)",
   "language": "python",
   "name": "python3"
  },
  "language_info": {
   "codemirror_mode": {
    "name": "ipython",
    "version": 3
   },
   "file_extension": ".py",
   "mimetype": "text/x-python",
   "name": "python",
   "nbconvert_exporter": "python",
   "pygments_lexer": "ipython3",
   "version": "3.9.13"
  },
  "toc": {
   "base_numbering": 1,
   "nav_menu": {},
   "number_sections": true,
   "sideBar": true,
   "skip_h1_title": false,
   "title_cell": "Table of Contents",
   "title_sidebar": "Contents",
   "toc_cell": false,
   "toc_position": {},
   "toc_section_display": true,
   "toc_window_display": false
  },
  "varInspector": {
   "cols": {
    "lenName": 16,
    "lenType": 16,
    "lenVar": 40
   },
   "kernels_config": {
    "python": {
     "delete_cmd_postfix": "",
     "delete_cmd_prefix": "del ",
     "library": "var_list.py",
     "varRefreshCmd": "print(var_dic_list())"
    },
    "r": {
     "delete_cmd_postfix": ") ",
     "delete_cmd_prefix": "rm(",
     "library": "var_list.r",
     "varRefreshCmd": "cat(var_dic_list()) "
    }
   },
   "types_to_exclude": [
    "module",
    "function",
    "builtin_function_or_method",
    "instance",
    "_Feature"
   ],
   "window_display": false
  },
  "vscode": {
   "interpreter": {
    "hash": "31f2aee4e71d21fbe5cf8b01ff0e069b9275f58929596ceb00d14d90e3e16cd6"
   }
  }
 },
 "nbformat": 4,
 "nbformat_minor": 5
}
