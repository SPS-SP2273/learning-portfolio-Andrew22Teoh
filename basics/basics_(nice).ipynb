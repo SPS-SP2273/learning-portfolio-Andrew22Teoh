{
 "cells": [
  {
   "cell_type": "markdown",
   "id": "123456",
   "metadata": {},
   "source": [
    "<div style=\"text-align:left;font-size:2em\"><span style=\"font-weight:bolder;font-size:1.25em\">SP2273 | Learning Portfolio</span><br><br><span style=\"font-weight:bold;color:darkred\">Basics (Nice)</span></div>"
   ]
  },
  {
   "cell_type": "markdown",
   "id": "960c93df",
   "metadata": {},
   "source": [
    "## 1 Beyond Python Basics"
   ]
  },
  {
   "cell_type": "markdown",
   "id": "75cebe0f",
   "metadata": {},
   "source": [
    "### 1.1 If if is not enough"
   ]
  },
  {
   "cell_type": "code",
   "execution_count": 1,
   "id": "819d5066",
   "metadata": {},
   "outputs": [
    {
     "ename": "SyntaxError",
     "evalue": "invalid syntax (2829168439.py, line 3)",
     "output_type": "error",
     "traceback": [
      "\u001b[1;36m  File \u001b[1;32m\"C:\\Users\\teohp\\AppData\\Local\\Temp\\ipykernel_9984\\2829168439.py\"\u001b[1;36m, line \u001b[1;32m3\u001b[0m\n\u001b[1;33m    match name:\u001b[0m\n\u001b[1;37m          ^\u001b[0m\n\u001b[1;31mSyntaxError\u001b[0m\u001b[1;31m:\u001b[0m invalid syntax\n"
     ]
    }
   ],
   "source": [
    "# new function, match-case. This is only workable in python 3.10 onwards, so prob won't work for you. It's ok :)\n",
    "name = \"Batman\"\n",
    "match name:\n",
    "    case \"Batman\":\n",
    "        print (\"Hey Batman!\")\n",
    "    case \"Superman\":\n",
    "        print (\"Hey Superman!\")\n",
    "    case \"Spiderman\":\n",
    "        print (\"Hey Spiderman!\")\n",
    "    case _:\n",
    "        print (f\"Hey {name}!\")"
   ]
  },
  {
   "cell_type": "code",
   "execution_count": null,
   "id": "1193c4da",
   "metadata": {},
   "outputs": [],
   "source": [
    "sys.version_info()"
   ]
  },
  {
   "cell_type": "markdown",
   "id": "94ac7bc6",
   "metadata": {},
   "source": [
    "### 1.2 Ternary operators or Conditional Statements"
   ]
  },
  {
   "cell_type": "code",
   "execution_count": null,
   "id": "5bbc560f",
   "metadata": {},
   "outputs": [],
   "source": [
    "nationality = \"French\"\n",
    "(\"Bonjour!\", \"Hello!\")[nationality == 'French']\n",
    "# example given in the SPS guide is wrong."
   ]
  },
  {
   "cell_type": "code",
   "execution_count": null,
   "id": "4a62d901",
   "metadata": {},
   "outputs": [],
   "source": [
    "nationality = \"French\"\n",
    "(\"Hello!\",\"Bonjour!\")[nationality == 'French']\n",
    "#this is essentially an indexing of a tuple. (tuple)[Index Number]. \n",
    "#the tuple has 2 items, and True evaluates to 1 while False evaluates to 0. Hence, the false value comes first"
   ]
  },
  {
   "cell_type": "code",
   "execution_count": null,
   "id": "a8af2866",
   "metadata": {},
   "outputs": [],
   "source": [
    "# weather = \"rainy\"\n",
    "# weather = \"sunny\"\n",
    "weather = \"cats and dogs\"            #different values for weather\n",
    "\n",
    "'''                               #naive approach to if/else\n",
    "if weather == \"rainy\":               \n",
    "    print (\"I'm so damn cold\")\n",
    "else:\n",
    "    print (\"It's too damn hot!\")\n",
    "'''\n",
    "\n",
    "# print(\"I'm so damn cold\") if weather == \"rainy\" else print (\"It's too damn hot!\")             #alternative way to if/else\n",
    "\n",
    "(\"It's too damn hot\",\"It's so damn cold!\")[weather == \"rainy\"]                         #another way to if/else, I don't like \n"
   ]
  },
  {
   "cell_type": "code",
   "execution_count": null,
   "id": "9352a976",
   "metadata": {},
   "outputs": [],
   "source": [
    "text = None\n",
    "message = text or \"No message!\"     #not sure how this is a ternary operator tho?\n",
    "print(message)"
   ]
  },
  {
   "cell_type": "markdown",
   "id": "1970d9ef",
   "metadata": {},
   "source": [
    "### 1.3 Swapping values"
   ]
  },
  {
   "cell_type": "code",
   "execution_count": null,
   "id": "73fc21c5",
   "metadata": {},
   "outputs": [],
   "source": [
    "a, b = 1, 2\n",
    "b, a = a, b\n",
    "print(a,b)\n",
    "#It's an easy way to swap these values :)"
   ]
  },
  {
   "cell_type": "markdown",
   "id": "76af86c9",
   "metadata": {},
   "source": [
    "### 1.4 Never compare floats directly"
   ]
  },
  {
   "cell_type": "code",
   "execution_count": null,
   "id": "1ecdca2d",
   "metadata": {},
   "outputs": [],
   "source": [
    "a = 0.1\n",
    "a3 = 0.3\n",
    "print (3*a)\n",
    "a * 3 == a3 \n",
    "#computers are terrible at storing indefinitely long numbers like repeats. This is mathematically true but\n",
    "#the computer is going to evaluate this statement as False"
   ]
  },
  {
   "cell_type": "code",
   "execution_count": null,
   "id": "e7bad5bc",
   "metadata": {},
   "outputs": [],
   "source": [
    "print(f\"{0.3:1.17f}\")\n",
    "#check it out, computer can't even write 0.3 to 17 decimal places\n",
    "#look into the formatting for f-printing wrt demical places!"
   ]
  },
  {
   "cell_type": "code",
   "execution_count": null,
   "id": "65005471",
   "metadata": {},
   "outputs": [],
   "source": [
    "a = 0.1\n",
    "a3 = 0.3\n",
    "margin_of_error = 1E-10\n",
    "print(margin_of_error)\n",
    "print(abs(a*3-a3) < margin_of_error)\n",
    "#one way to check if a float is the same as something you expect. Depends on the margin of error though\n",
    "#if you have too tight/small a margin of error, the computer may still end up evaluating as false.\n",
    "margin_of_error = 1E-1000\n",
    "print(abs(a*3-a3)<margin_of_error)\n",
    "#margin of error too small for computer to evaluate properly"
   ]
  },
  {
   "cell_type": "code",
   "execution_count": null,
   "id": "411c3c87",
   "metadata": {},
   "outputs": [],
   "source": [
    "import numpy as np\n",
    "print (np.isclose(a*3,a3))\n",
    "#a better way to check if 2 floats are the same, using the numpy module"
   ]
  },
  {
   "cell_type": "markdown",
   "id": "f1c6c7a0",
   "metadata": {},
   "source": [
    "### 1.5 Operator precedance"
   ]
  },
  {
   "cell_type": "markdown",
   "id": "5f890f78",
   "metadata": {},
   "source": [
    "###### In decreasing order of priority\n",
    "\n",
    "|Operator|Description|\n",
    "|:--|:--:|\n",
    "|()|Parenthesis|\n",
    "|func()|Function Call|\n",
    "|list[index:index]|String or List or Tuple Slicing|\n",
    "|**|Exponent|\n",
    "\n",
    "##### Ok there's a lot more rules but you can see them all [here](https://sps.nus.edu.sg/sp2273/basics-nice.html)"
   ]
  },
  {
   "cell_type": "markdown",
   "id": "c9823c7f",
   "metadata": {},
   "source": [
    "## 2 Variables in Python"
   ]
  },
  {
   "cell_type": "markdown",
   "id": "4ff027a8",
   "metadata": {},
   "source": [
    "### 2.1 Variables in Python are just names"
   ]
  },
  {
   "cell_type": "code",
   "execution_count": 3,
   "id": "39db1728",
   "metadata": {},
   "outputs": [
    {
     "name": "stdout",
     "output_type": "stream",
     "text": [
      "x: [1, 2, 3], y: [1, 2, 3]\n"
     ]
    }
   ],
   "source": [
    "x = [1, 2]\n",
    "y = x\n",
    "y.append(3)\n",
    "\n",
    "print(f\"x: {x}, y: {y}\")"
   ]
  },
  {
   "cell_type": "code",
   "execution_count": 4,
   "id": "dc619719",
   "metadata": {},
   "outputs": [
    {
     "name": "stdout",
     "output_type": "stream",
     "text": [
      "x: 2212519307568, y: 2212519307568, 1: 2212519307568\n"
     ]
    }
   ],
   "source": [
    "x = 1\n",
    "y = 1\n",
    "\n",
    "print(f\"x: {id(x)}, y: {id(y)}, 1: {id(1)}\")"
   ]
  },
  {
   "cell_type": "code",
   "execution_count": 2,
   "id": "1970140d",
   "metadata": {},
   "outputs": [
    {
     "name": "stdout",
     "output_type": "stream",
     "text": [
      "a:2212602521360, b:2212621538160, 3.14152:2212621541232\n",
      "3.14 3.14\n"
     ]
    }
   ],
   "source": [
    "a = 3.14\n",
    "b = 3.14\n",
    "\n",
    "print(f'a:{id(a)}, b:{id(b)}, 3.14152:{id(3.14)}')\n",
    "print(a,b)\n",
    "\n",
    "#even if floats are considered immutable so you'd expect the IDs to be the same\n",
    "#they're different!\n",
    "#likely due to the very long hidden numbers after our 3.14"
   ]
  },
  {
   "cell_type": "code",
   "execution_count": 5,
   "id": "e44db068",
   "metadata": {},
   "outputs": [
    {
     "name": "stdout",
     "output_type": "stream",
     "text": [
      "x:2212519308976,y:2212519308976, 45:2212519308976\n"
     ]
    }
   ],
   "source": [
    "x = 45\n",
    "y = 45\n",
    "print(f'x:{id(x)},y:{id(y)}, 45:{id(45)}')"
   ]
  },
  {
   "cell_type": "code",
   "execution_count": 7,
   "id": "56b8b735",
   "metadata": {},
   "outputs": [
    {
     "name": "stdout",
     "output_type": "stream",
     "text": [
      "x: [1, 2], y: [1, 2, 3]\n"
     ]
    }
   ],
   "source": [
    "x = [1, 2]\n",
    "y = x.copy()\n",
    "y.append(3)\n",
    "\n",
    "print(f\"x: {x}, y: {y}\")"
   ]
  },
  {
   "cell_type": "markdown",
   "id": "27c89c4c",
   "metadata": {},
   "source": [
    "### 2.2 == is not the same as is"
   ]
  },
  {
   "cell_type": "code",
   "execution_count": 9,
   "id": "30e36fef",
   "metadata": {},
   "outputs": [
    {
     "name": "stdout",
     "output_type": "stream",
     "text": [
      "True\n"
     ]
    }
   ],
   "source": [
    "name = \"Flying Dutchman\"\n",
    "print (name == \"Flying Dutchman\")"
   ]
  }
 ],
 "metadata": {
  "kernelspec": {
   "display_name": "Python 3 (ipykernel)",
   "language": "python",
   "name": "python3"
  },
  "language_info": {
   "codemirror_mode": {
    "name": "ipython",
    "version": 3
   },
   "file_extension": ".py",
   "mimetype": "text/x-python",
   "name": "python",
   "nbconvert_exporter": "python",
   "pygments_lexer": "ipython3",
   "version": "3.9.13"
  },
  "toc": {
   "base_numbering": 1,
   "nav_menu": {},
   "number_sections": true,
   "sideBar": true,
   "skip_h1_title": false,
   "title_cell": "Table of Contents",
   "title_sidebar": "Contents",
   "toc_cell": false,
   "toc_position": {},
   "toc_section_display": true,
   "toc_window_display": false
  },
  "varInspector": {
   "cols": {
    "lenName": 16,
    "lenType": 16,
    "lenVar": 40
   },
   "kernels_config": {
    "python": {
     "delete_cmd_postfix": "",
     "delete_cmd_prefix": "del ",
     "library": "var_list.py",
     "varRefreshCmd": "print(var_dic_list())"
    },
    "r": {
     "delete_cmd_postfix": ") ",
     "delete_cmd_prefix": "rm(",
     "library": "var_list.r",
     "varRefreshCmd": "cat(var_dic_list()) "
    }
   },
   "types_to_exclude": [
    "module",
    "function",
    "builtin_function_or_method",
    "instance",
    "_Feature"
   ],
   "window_display": false
  },
  "vscode": {
   "interpreter": {
    "hash": "31f2aee4e71d21fbe5cf8b01ff0e069b9275f58929596ceb00d14d90e3e16cd6"
   }
  }
 },
 "nbformat": 4,
 "nbformat_minor": 5
}
